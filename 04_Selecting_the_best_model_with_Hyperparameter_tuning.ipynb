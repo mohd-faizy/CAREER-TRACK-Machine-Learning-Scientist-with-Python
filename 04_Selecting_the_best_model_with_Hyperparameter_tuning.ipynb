{
  "nbformat": 4,
  "nbformat_minor": 0,
  "metadata": {
    "kernelspec": {
      "display_name": "Python 3",
      "language": "python",
      "name": "python3"
    },
    "language_info": {
      "codemirror_mode": {
        "name": "ipython",
        "version": 3
      },
      "file_extension": ".py",
      "mimetype": "text/x-python",
      "name": "python",
      "nbconvert_exporter": "python",
      "pygments_lexer": "ipython3",
      "version": "3.7.6"
    },
    "colab": {
      "name": "04_Selecting-the-best-model-with-Hyperparameter-tuning.ipynb",
      "provenance": [],
      "toc_visible": true,
      "include_colab_link": true
    }
  },
  "cells": [
    {
      "cell_type": "markdown",
      "metadata": {
        "id": "view-in-github",
        "colab_type": "text"
      },
      "source": [
        "<a href=\"https://colab.research.google.com/github/mohd-faizy/CAREER-TRACK-Machine-Learning-Scientist-with-Python/blob/main/04_Selecting_the_best_model_with_Hyperparameter_tuning.ipynb\" target=\"_parent\"><img src=\"https://colab.research.google.com/assets/colab-badge.svg\" alt=\"Open In Colab\"/></a>"
      ]
    },
    {
      "cell_type": "markdown",
      "metadata": {
        "id": "ItfjD-Nq_RFa"
      },
      "source": [
        "--- \n",
        "<strong> \n",
        "    <h1 align='center'>Selecting the best model with Hyperparameter tuning</h1> \n",
        "</strong>\n",
        "\n",
        "---\n",
        "\n",
        "The first three chapters focused on model validation techniques. In chapter 4 we apply these techniques, specifically cross-validation, while learning about hyperparameter tuning. After all, model validation makes tuning possible and helps us select the overall best model."
      ]
    },
    {
      "cell_type": "code",
      "metadata": {
        "colab": {
          "base_uri": "https://localhost:8080/"
        },
        "id": "MBwrq_tJ_b_B",
        "outputId": "97b04394-c971-4f90-8889-b0389b08c3c7"
      },
      "source": [
        "!git clone https://github.com/mohd-faizy/CAREER-TRACK-Machine-Learning-Scientist-with-Python.git"
      ],
      "execution_count": 1,
      "outputs": [
        {
          "output_type": "stream",
          "text": [
            "Cloning into 'CAREER-TRACK-Machine-Learning-Scientist-with-Python'...\n",
            "remote: Enumerating objects: 689, done.\u001b[K\n",
            "remote: Counting objects: 100% (360/360), done.\u001b[K\n",
            "remote: Compressing objects: 100% (320/320), done.\u001b[K\n",
            "remote: Total 689 (delta 93), reused 284 (delta 38), pack-reused 329\u001b[K\n",
            "Receiving objects: 100% (689/689), 202.36 MiB | 26.10 MiB/s, done.\n",
            "Resolving deltas: 100% (219/219), done.\n",
            "Checking out files: 100% (315/315), done.\n"
          ],
          "name": "stdout"
        }
      ]
    },
    {
      "cell_type": "code",
      "metadata": {
        "id": "RV6e3XLr_i-Y"
      },
      "source": [
        "import numpy as np\n",
        "import pandas as pd\n",
        "import matplotlib.pyplot as plt\n",
        "import seaborn as sns\n",
        "import os\n",
        "\n",
        "plt.style.use('fivethirtyeight')\n",
        "#plt.style.use('ggplot')\n",
        "#sns.set_theme()\n",
        "\n",
        "%matplotlib inline"
      ],
      "execution_count": 2,
      "outputs": []
    },
    {
      "cell_type": "code",
      "metadata": {
        "colab": {
          "base_uri": "https://localhost:8080/"
        },
        "id": "xuNcMmq4_klc",
        "outputId": "e565ac9f-3b8a-4125-8201-0f1f5ed88821"
      },
      "source": [
        "os.chdir('/content/CAREER-TRACK-Machine-Learning-Scientist-with-Python/10_Model_Validation_in_Python/_dataset')\n",
        "cwd = os.getcwd()\n",
        "print('Curent working directory is ', cwd)"
      ],
      "execution_count": 3,
      "outputs": [
        {
          "output_type": "stream",
          "text": [
            "Curent working directory is  /content/CAREER-TRACK-Machine-Learning-Scientist-with-Python/10_Model_Validation_in_Python/_dataset\n"
          ],
          "name": "stdout"
        }
      ]
    },
    {
      "cell_type": "code",
      "metadata": {
        "colab": {
          "base_uri": "https://localhost:8080/"
        },
        "id": "i5sVNREN_xi_",
        "outputId": "6967f4cd-c85d-412b-b513-5368000046dd"
      },
      "source": [
        "ls"
      ],
      "execution_count": 4,
      "outputs": [
        {
          "output_type": "stream",
          "text": [
            "candy-data.csv  sports.csv  tic-tac-toe.csv\n"
          ],
          "name": "stdout"
        }
      ]
    },
    {
      "cell_type": "markdown",
      "metadata": {
        "id": "wgdv5nheBYyy"
      },
      "source": [
        "## Introduction to hyperparameter tuning\n",
        "\n",
        "**Model Parameters**\n",
        "> _Model parameters are created as the result of **fitting** a model and are estimated by the input data. They are used to make predictions on new data and are not manually set by the modeler._\n",
        "\n",
        "```python\n",
        "from sklearn.linear_model import LinearRegression\n",
        "lr = LinearRegression()\n",
        "lr.fit(X, y)\n",
        "# Here coefficients and intercept are considered model parameters\n",
        "print(lr.coef_, lr.intercept_)\n",
        "```\n",
        "- Learned or estimated from the data\n",
        "- The result of fitting a model\n",
        "- Used when making future predictions\n",
        "- Not manually set\n",
        "\n",
        "**Model Hyperparameters**\n",
        "> _Hyperparameters are the values that are set before training occurs. So anytime we refer to a parameter as being manually set, we are referring to hyperparameters._\n",
        "\n",
        "- Manually set.\n",
        "- Specify how the training is supposed to happen\n",
        "\n",
        "__Random forest hyperparameters__\n",
        "\n",
        "$$\n",
        "\\begin{array}{|l|l|l|}\n",
        "\\hline \\text { Hyperparameter } & \\text { Description } & \\begin{array}{l}\n",
        "\\text { Possible Values } \\\\\n",
        "\\text { (default) }\n",
        "\\end{array} \\\\\n",
        "\\hline \\text { n_estimators } & \\text { Number of decision trees in the forest } & 2+(10) \\\\\n",
        "\\hline \\text { max_depth } & \\text { Maximum depth of the decision trees } & 2+\\text { (None) } \\\\\n",
        "\\hline \\text { max_features } & \\begin{array}{l}\n",
        "\\text { Number of features to consider when making a } \\\\\n",
        "\\text { split }\n",
        "\\end{array} & \\text { See documentation } \\\\\n",
        "\\hline \\text { min_samples_split } & \\begin{array}{l}\n",
        "\\text { The minimum number of samples required to } \\\\\n",
        "\\text { make a split }\n",
        "\\end{array} & 2+(2)\n",
        "\\end{array}\n",
        "$$\n",
        "\n",
        "**Hyperparameter tuning**\n",
        "\n",
        "- Hyperparameter tuning consists of selecting hyperparameters to test\n",
        "- and then running a specific type of model with various values for these hyperparameters.\n",
        "- Create ranges of possible values to select from\n",
        "- Specify a single **accuracy metric**"
      ]
    },
    {
      "cell_type": "markdown",
      "metadata": {
        "id": "ai8yWgP4BYyz"
      },
      "source": [
        "### Creating Hyperparameters\n",
        "For a school assignment, your professor has asked your class to create a random forest model to predict the average test score for the final exam.\n",
        "\n",
        "After developing an initial random forest model, you are unsatisfied with the overall accuracy. You realize that there are too many hyperparameters to choose from, and each one has a lot of possible values. You have decided to make a list of possible ranges for the hyperparameters you might use in your next model.\n",
        "\n",
        "Your professor has provided de-identified data for the last ten quizzes to act as the training data. There are 30 students in your class."
      ]
    },
    {
      "cell_type": "code",
      "metadata": {
        "id": "slqdxda5BYy0",
        "colab": {
          "base_uri": "https://localhost:8080/"
        },
        "outputId": "b858d64c-4f2a-4e55-93a8-1240e79d2d71"
      },
      "source": [
        "from sklearn.ensemble import RandomForestRegressor\n",
        "\n",
        "rfr = RandomForestRegressor(n_estimators='warn',\n",
        "                            max_features='auto',\n",
        "                            random_state=1111)\n",
        "\n",
        "rfr.get_params()"
      ],
      "execution_count": 5,
      "outputs": [
        {
          "output_type": "execute_result",
          "data": {
            "text/plain": [
              "{'bootstrap': True,\n",
              " 'ccp_alpha': 0.0,\n",
              " 'criterion': 'mse',\n",
              " 'max_depth': None,\n",
              " 'max_features': 'auto',\n",
              " 'max_leaf_nodes': None,\n",
              " 'max_samples': None,\n",
              " 'min_impurity_decrease': 0.0,\n",
              " 'min_impurity_split': None,\n",
              " 'min_samples_leaf': 1,\n",
              " 'min_samples_split': 2,\n",
              " 'min_weight_fraction_leaf': 0.0,\n",
              " 'n_estimators': 'warn',\n",
              " 'n_jobs': None,\n",
              " 'oob_score': False,\n",
              " 'random_state': 1111,\n",
              " 'verbose': 0,\n",
              " 'warm_start': False}"
            ]
          },
          "metadata": {
            "tags": []
          },
          "execution_count": 5
        }
      ]
    },
    {
      "cell_type": "code",
      "metadata": {
        "id": "oQpoIqUgcvwY"
      },
      "source": [
        "# Maximum Depth\n",
        "max_depth = [4, 8, 12]\n",
        "\n",
        "# Minimum samples for a split\n",
        "min_samples_split = [2, 5, 10]\n",
        "\n",
        "# Max features \n",
        "max_features = [4, 6, 8, 10]"
      ],
      "execution_count": 6,
      "outputs": []
    },
    {
      "cell_type": "markdown",
      "metadata": {
        "id": "jiBegg7FBYy4"
      },
      "source": [
        "Hyperparameter tuning requires selecting parameters to tune, as well the possible values these parameters can be set to."
      ]
    },
    {
      "cell_type": "markdown",
      "metadata": {
        "id": "RL0qlvs2BYy4"
      },
      "source": [
        "### Running a model using ranges\n",
        "You have just finished creating a list of hyperparameters and ranges to use when tuning a predictive model for an assignment."
      ]
    },
    {
      "cell_type": "code",
      "metadata": {
        "id": "OcRYH2dtBYy5",
        "colab": {
          "base_uri": "https://localhost:8080/"
        },
        "outputId": "8788ba71-c1de-459d-e8b7-c3e6f7acd77d"
      },
      "source": [
        "from sklearn.ensemble import RandomForestRegressor\n",
        "import random\n",
        "\n",
        "# Fill in rfr using your variables\n",
        "rfr = RandomForestRegressor(\n",
        "    n_estimators = 100,\n",
        "    max_depth = random.sample(max_depth, 1)[0],\n",
        "    min_samples_split = random.sample(min_samples_split, 1)[0],\n",
        "    max_features = random.sample(max_features, 1)[0]\n",
        ")\n",
        "\n",
        "# Print out the parameters\n",
        "print(rfr.get_params())"
      ],
      "execution_count": 7,
      "outputs": [
        {
          "output_type": "stream",
          "text": [
            "{'bootstrap': True, 'ccp_alpha': 0.0, 'criterion': 'mse', 'max_depth': 4, 'max_features': 6, 'max_leaf_nodes': None, 'max_samples': None, 'min_impurity_decrease': 0.0, 'min_impurity_split': None, 'min_samples_leaf': 1, 'min_samples_split': 2, 'min_weight_fraction_leaf': 0.0, 'n_estimators': 100, 'n_jobs': None, 'oob_score': False, 'random_state': None, 'verbose': 0, 'warm_start': False}\n"
          ],
          "name": "stdout"
        }
      ]
    },
    {
      "cell_type": "markdown",
      "metadata": {
        "id": "Z73afP2hLa29"
      },
      "source": [
        "**Notice** that `min_samples_split` was randomly set to 2. Since you specified a random state, `min_samples_split` will always be set to 2 if you only run this model one time."
      ]
    },
    {
      "cell_type": "markdown",
      "metadata": {
        "id": "1WI_BpiiBYy6"
      },
      "source": [
        "## RandomizedSearchCV\n",
        "\n",
        "- **Grid Search**: Grid search is a process that searches exhaustively through a manually specified subset of the hyperparameter space of the targeted algorithm. \n",
        "    - *Benefits*\n",
        "        - Tests every possible combination\n",
        "    - *Drawbacks*\n",
        "        - Additional hyperparameters increase training time exponentially\n",
        "\n",
        "- There are two amazing **alternatives** to using grid search, which both have their advantages over grid searching.\n",
        "    - **Random searching**: which consists of randomly selecting from all hyperparameter values from the list of possible ranges.\n",
        "    - **Bayesian optimization**: which uses the past results of each test to update the hyperparameters for the next run. "
      ]
    },
    {
      "cell_type": "markdown",
      "metadata": {
        "id": "gkEb5-psBYy7"
      },
      "source": [
        "### Preparing for RandomizedSearch\n",
        "Last semester your professor challenged your class to build a predictive model to predict final exam test scores. You tried running a few different models by randomly selecting hyperparameters. However, running each model required you to code it individually.\n",
        "\n",
        "After learning about `RandomizedSearchCV()`, you're revisiting your professors challenge to build the best model. In this exercise, you will prepare the three necessary inputs for completing a random search."
      ]
    },
    {
      "cell_type": "code",
      "metadata": {
        "id": "DC7zKv1FBYy8"
      },
      "source": [
        "from sklearn.metrics import make_scorer, mean_squared_error\n",
        "from sklearn.ensemble import RandomForestRegressor\n",
        "\n",
        "# Finish the dictionary by adding the max_depth parameter\n",
        "param_dict = {\n",
        "    \"max_depth\": [2, 4, 6, 8],\n",
        "    \"max_features\": [2, 4, 6, 8, 10],\n",
        "    \"min_samples_split\": [2, 4, 8, 16]\n",
        "}\n",
        "\n",
        "# Create a random forest regression model\n",
        "rfr = RandomForestRegressor(n_estimators=10, random_state=1111)\n",
        "\n",
        "# Create a scorer to use (use the mean squared error)\n",
        "scorer = make_scorer(mean_squared_error)"
      ],
      "execution_count": 8,
      "outputs": []
    },
    {
      "cell_type": "markdown",
      "metadata": {
        "id": "inXEMzjYBYy9"
      },
      "source": [
        "To use `RandomizedSearchCV()`, you need a distribution dictionary, an estimator, and a scorer—once you've got these, you can run a random search to find the best parameters for your model."
      ]
    },
    {
      "cell_type": "markdown",
      "metadata": {
        "id": "2bLY8GYUBYy9"
      },
      "source": [
        "### Implementing RandomizedSearchCV\n",
        "You are hoping that using a random search algorithm will help you improve predictions for a class assignment. You professor has challenged your class to predict the overall final exam average score.\n",
        "\n",
        "In preparation for completing a random search, you have created:\n",
        "\n",
        "- `param_dist`: the hyperparameter distributions\n",
        "- `rfr`: a random forest regression model\n",
        "- `scorer`: a scoring method to use"
      ]
    },
    {
      "cell_type": "code",
      "metadata": {
        "id": "uSClf0NcBYy-"
      },
      "source": [
        "from sklearn.model_selection import RandomizedSearchCV\n",
        "\n",
        "# Build a random search using param_dist, rfr, and scorer\n",
        "random_search = RandomizedSearchCV(estimator=rfr,\n",
        "                                   param_distributions=param_dict,\n",
        "                                   n_iter=10,\n",
        "                                   cv=5,\n",
        "                                   scoring=scorer\n",
        "                                  )"
      ],
      "execution_count": 9,
      "outputs": []
    },
    {
      "cell_type": "markdown",
      "metadata": {
        "id": "1Ey7myZtBYy_"
      },
      "source": [
        "Although it takes a lot of steps, hyperparameter tuning with random search is well worth it and can improve the accuracy of your models. Plus, you are already using cross-validation to validate your best model."
      ]
    },
    {
      "cell_type": "markdown",
      "metadata": {
        "id": "SiC37ionBYy_"
      },
      "source": [
        "## Selecting your final model\n"
      ]
    },
    {
      "cell_type": "markdown",
      "metadata": {
        "id": "vvVbh5HeBYzA"
      },
      "source": [
        "### Best classification accuracy\n",
        "You are in a competition at work to build the best model for predicting the winner of a Tic-Tac-Toe game. You already ran a random search and saved the results of the most accurate model to `rs`."
      ]
    },
    {
      "cell_type": "code",
      "metadata": {
        "id": "SPgKYQN1BYzA"
      },
      "source": [
        "tic_tac_toe = pd.read_csv('tic-tac-toe.csv')\n",
        "\n",
        "# Create dummy variables using pandas\n",
        "X = pd.get_dummies(tic_tac_toe.iloc[:, 0:9])\n",
        "y = tic_tac_toe.iloc[:, 9]\n",
        "y = tic_tac_toe['Class'].apply(lambda x: 1 if x == 'positive' else 0)"
      ],
      "execution_count": 10,
      "outputs": []
    },
    {
      "cell_type": "code",
      "metadata": {
        "id": "oYV_Qb3QBYzB"
      },
      "source": [
        "from sklearn.ensemble import RandomForestClassifier\n",
        "\n",
        "rfc = RandomForestClassifier(max_features='auto')\n",
        "\n",
        "param_dist = {\n",
        "    'max_depth': [2, 4, 8, 12],\n",
        "    'min_samples_split': [2, 4, 6, 8],\n",
        "    'n_estimators':[10, 20, 30]\n",
        "}\n",
        "\n",
        "rs = RandomizedSearchCV(estimator=rfc,\n",
        "                        param_distributions=param_dict,\n",
        "                        n_iter=10, \n",
        "                        cv=5,\n",
        "                        scoring=None,\n",
        "                        random_state=1111)"
      ],
      "execution_count": 11,
      "outputs": []
    },
    {
      "cell_type": "code",
      "metadata": {
        "id": "22Vkzi5YBYzC",
        "colab": {
          "base_uri": "https://localhost:8080/"
        },
        "outputId": "083da98b-9b36-45bf-e014-3da7fb443565"
      },
      "source": [
        "rs.fit(X, y)"
      ],
      "execution_count": 12,
      "outputs": [
        {
          "output_type": "execute_result",
          "data": {
            "text/plain": [
              "RandomizedSearchCV(cv=5, error_score=nan,\n",
              "                   estimator=RandomForestClassifier(bootstrap=True,\n",
              "                                                    ccp_alpha=0.0,\n",
              "                                                    class_weight=None,\n",
              "                                                    criterion='gini',\n",
              "                                                    max_depth=None,\n",
              "                                                    max_features='auto',\n",
              "                                                    max_leaf_nodes=None,\n",
              "                                                    max_samples=None,\n",
              "                                                    min_impurity_decrease=0.0,\n",
              "                                                    min_impurity_split=None,\n",
              "                                                    min_samples_leaf=1,\n",
              "                                                    min_samples_split=2,\n",
              "                                                    min_weight_fraction_leaf=0.0,\n",
              "                                                    n_estimators=100,\n",
              "                                                    n_jobs=None,\n",
              "                                                    oob_score=False,\n",
              "                                                    random_state=None,\n",
              "                                                    verbose=0,\n",
              "                                                    warm_start=False),\n",
              "                   iid='deprecated', n_iter=10, n_jobs=None,\n",
              "                   param_distributions={'max_depth': [2, 4, 6, 8],\n",
              "                                        'max_features': [2, 4, 6, 8, 10],\n",
              "                                        'min_samples_split': [2, 4, 8, 16]},\n",
              "                   pre_dispatch='2*n_jobs', random_state=1111, refit=True,\n",
              "                   return_train_score=False, scoring=None, verbose=0)"
            ]
          },
          "metadata": {
            "tags": []
          },
          "execution_count": 12
        }
      ]
    },
    {
      "cell_type": "code",
      "metadata": {
        "colab": {
          "base_uri": "https://localhost:8080/"
        },
        "id": "FFM3c4zl96As",
        "outputId": "8aba2be4-86d4-4874-b292-0493be06438b"
      },
      "source": [
        "rs.best_score_"
      ],
      "execution_count": 13,
      "outputs": [
        {
          "output_type": "execute_result",
          "data": {
            "text/plain": [
              "0.8654832024432808"
            ]
          },
          "metadata": {
            "tags": []
          },
          "execution_count": 13
        }
      ]
    },
    {
      "cell_type": "code",
      "metadata": {
        "id": "DuGHMLl9BYzC",
        "colab": {
          "base_uri": "https://localhost:8080/"
        },
        "outputId": "b2b2f1c0-3724-4302-9688-472cb8fb25c6"
      },
      "source": [
        "rs.best_params_"
      ],
      "execution_count": 14,
      "outputs": [
        {
          "output_type": "execute_result",
          "data": {
            "text/plain": [
              "{'max_depth': 8, 'max_features': 8, 'min_samples_split': 2}"
            ]
          },
          "metadata": {
            "tags": []
          },
          "execution_count": 14
        }
      ]
    },
    {
      "cell_type": "markdown",
      "metadata": {
        "id": "uH7umpWLDHR5"
      },
      "source": [
        "However, we perform hyperparameter tuning; in the end, we need to select one final model.\n",
        "\n",
        "The `best_estimator_` attribute contains the model that performed the best during cross-validation."
      ]
    },
    {
      "cell_type": "code",
      "metadata": {
        "colab": {
          "base_uri": "https://localhost:8080/"
        },
        "id": "aVXdBeaP98W7",
        "outputId": "407883ad-a489-4592-dbec-c79d649d97bf"
      },
      "source": [
        "rs.best_estimator_"
      ],
      "execution_count": 15,
      "outputs": [
        {
          "output_type": "execute_result",
          "data": {
            "text/plain": [
              "RandomForestClassifier(bootstrap=True, ccp_alpha=0.0, class_weight=None,\n",
              "                       criterion='gini', max_depth=8, max_features=8,\n",
              "                       max_leaf_nodes=None, max_samples=None,\n",
              "                       min_impurity_decrease=0.0, min_impurity_split=None,\n",
              "                       min_samples_leaf=1, min_samples_split=2,\n",
              "                       min_weight_fraction_leaf=0.0, n_estimators=100,\n",
              "                       n_jobs=None, oob_score=False, random_state=None,\n",
              "                       verbose=0, warm_start=False)"
            ]
          },
          "metadata": {
            "tags": []
          },
          "execution_count": 15
        }
      ]
    },
    {
      "cell_type": "markdown",
      "metadata": {
        "id": "yZR-z6poiGip"
      },
      "source": [
        "### Using `.best_estimator_`\n",
        "\n",
        "```python\n",
        "# Predict new data:\n",
        "rs.best_estimator_.predict(<new_data>)\n",
        "\n",
        "# Check the parameters:\n",
        "random_search.best_estimator_.get_params()\n",
        "\n",
        "# Save model for use later:\n",
        "from sklearn.externals import joblib\n",
        "joblib.dump(rfr, 'rfr_best_<date>.pkl')\n",
        "```"
      ]
    },
    {
      "cell_type": "markdown",
      "metadata": {
        "id": "Uxn9E7b1_BFg"
      },
      "source": [
        "### __Using `.cv_results_`__"
      ]
    },
    {
      "cell_type": "code",
      "metadata": {
        "colab": {
          "base_uri": "https://localhost:8080/"
        },
        "id": "2OO_lOjb-N_2",
        "outputId": "135eeea6-dd9c-4cf3-f120-02d9aa4a0d76"
      },
      "source": [
        "rs.cv_results_"
      ],
      "execution_count": 16,
      "outputs": [
        {
          "output_type": "execute_result",
          "data": {
            "text/plain": [
              "{'mean_fit_time': array([0.16623254, 0.16883354, 0.15294428, 0.1837472 , 0.16054978,\n",
              "        0.16837282, 0.16173091, 0.1714088 , 0.14909573, 0.1791543 ]),\n",
              " 'mean_score_time': array([0.01078253, 0.01067472, 0.01005745, 0.01044941, 0.01048779,\n",
              "        0.01149135, 0.0113945 , 0.01135135, 0.00982294, 0.01209359]),\n",
              " 'mean_test_score': array([0.79133944, 0.72969568, 0.65974586, 0.82475458, 0.73278796,\n",
              "        0.84349913, 0.73908159, 0.79238656, 0.65659359, 0.8654832 ]),\n",
              " 'param_max_depth': masked_array(data=[6, 4, 2, 6, 4, 8, 4, 6, 2, 8],\n",
              "              mask=[False, False, False, False, False, False, False, False,\n",
              "                    False, False],\n",
              "        fill_value='?',\n",
              "             dtype=object),\n",
              " 'param_max_features': masked_array(data=[6, 10, 10, 10, 8, 4, 10, 10, 10, 8],\n",
              "              mask=[False, False, False, False, False, False, False, False,\n",
              "                    False, False],\n",
              "        fill_value='?',\n",
              "             dtype=object),\n",
              " 'param_min_samples_split': masked_array(data=[8, 16, 16, 8, 4, 4, 8, 16, 2, 2],\n",
              "              mask=[False, False, False, False, False, False, False, False,\n",
              "                    False, False],\n",
              "        fill_value='?',\n",
              "             dtype=object),\n",
              " 'params': [{'max_depth': 6, 'max_features': 6, 'min_samples_split': 8},\n",
              "  {'max_depth': 4, 'max_features': 10, 'min_samples_split': 16},\n",
              "  {'max_depth': 2, 'max_features': 10, 'min_samples_split': 16},\n",
              "  {'max_depth': 6, 'max_features': 10, 'min_samples_split': 8},\n",
              "  {'max_depth': 4, 'max_features': 8, 'min_samples_split': 4},\n",
              "  {'max_depth': 8, 'max_features': 4, 'min_samples_split': 4},\n",
              "  {'max_depth': 4, 'max_features': 10, 'min_samples_split': 8},\n",
              "  {'max_depth': 6, 'max_features': 10, 'min_samples_split': 16},\n",
              "  {'max_depth': 2, 'max_features': 10, 'min_samples_split': 2},\n",
              "  {'max_depth': 8, 'max_features': 8, 'min_samples_split': 2}],\n",
              " 'rank_test_score': array([ 5,  8,  9,  3,  7,  2,  6,  4, 10,  1], dtype=int32),\n",
              " 'split0_test_score': array([0.59895833, 0.59895833, 0.58854167, 0.61979167, 0.58854167,\n",
              "        0.69791667, 0.61458333, 0.671875  , 0.578125  , 0.69791667]),\n",
              " 'split1_test_score': array([0.78125   , 0.72916667, 0.67708333, 0.81770833, 0.77604167,\n",
              "        0.83333333, 0.75      , 0.71875   , 0.67708333, 0.84895833]),\n",
              " 'split2_test_score': array([0.890625  , 0.8125    , 0.67708333, 0.921875  , 0.82291667,\n",
              "        0.92708333, 0.8125    , 0.88020833, 0.69791667, 0.91666667]),\n",
              " 'split3_test_score': array([0.77486911, 0.69633508, 0.64397906, 0.82722513, 0.67015707,\n",
              "        0.83246073, 0.70680628, 0.78534031, 0.62303665, 0.92670157]),\n",
              " 'split4_test_score': array([0.91099476, 0.81151832, 0.71204188, 0.93717277, 0.80628272,\n",
              "        0.92670157, 0.81151832, 0.90575916, 0.70680628, 0.93717277]),\n",
              " 'std_fit_time': array([0.00705205, 0.00971239, 0.00646478, 0.00715003, 0.00784396,\n",
              "        0.00536986, 0.00554653, 0.00306941, 0.00456114, 0.00555853]),\n",
              " 'std_score_time': array([3.98505951e-04, 4.79286033e-04, 3.82807264e-04, 6.96632814e-05,\n",
              "        4.45803523e-04, 5.87025923e-04, 2.13039922e-03, 1.43999293e-03,\n",
              "        2.90208853e-04, 2.20710315e-03]),\n",
              " 'std_test_score': array([0.11095817, 0.07969563, 0.04160452, 0.11325703, 0.08958255,\n",
              "        0.08405761, 0.0738892 , 0.0900678 , 0.04885106, 0.08928432])}"
            ]
          },
          "metadata": {
            "tags": []
          },
          "execution_count": 16
        }
      ]
    },
    {
      "cell_type": "code",
      "metadata": {
        "colab": {
          "base_uri": "https://localhost:8080/"
        },
        "id": "KV_NmbFj-WOT",
        "outputId": "f48110be-c459-4935-814d-2b95ea1de1ad"
      },
      "source": [
        "rs.cv_results_['mean_test_score']"
      ],
      "execution_count": 17,
      "outputs": [
        {
          "output_type": "execute_result",
          "data": {
            "text/plain": [
              "array([0.79133944, 0.72969568, 0.65974586, 0.82475458, 0.73278796,\n",
              "       0.84349913, 0.73908159, 0.79238656, 0.65659359, 0.8654832 ])"
            ]
          },
          "metadata": {
            "tags": []
          },
          "execution_count": 17
        }
      ]
    },
    {
      "cell_type": "code",
      "metadata": {
        "colab": {
          "base_uri": "https://localhost:8080/"
        },
        "id": "9zdjE1Vp-mJx",
        "outputId": "95adc71a-2659-4c09-eb34-76274bcf2d30"
      },
      "source": [
        "# The dictionary also contains the key \"params,\"\n",
        "# which contains all of the selected parameters for each model run.\n",
        "rs.cv_results_['params']"
      ],
      "execution_count": 18,
      "outputs": [
        {
          "output_type": "execute_result",
          "data": {
            "text/plain": [
              "[{'max_depth': 6, 'max_features': 6, 'min_samples_split': 8},\n",
              " {'max_depth': 4, 'max_features': 10, 'min_samples_split': 16},\n",
              " {'max_depth': 2, 'max_features': 10, 'min_samples_split': 16},\n",
              " {'max_depth': 6, 'max_features': 10, 'min_samples_split': 8},\n",
              " {'max_depth': 4, 'max_features': 8, 'min_samples_split': 4},\n",
              " {'max_depth': 8, 'max_features': 4, 'min_samples_split': 4},\n",
              " {'max_depth': 4, 'max_features': 10, 'min_samples_split': 8},\n",
              " {'max_depth': 6, 'max_features': 10, 'min_samples_split': 16},\n",
              " {'max_depth': 2, 'max_features': 10, 'min_samples_split': 2},\n",
              " {'max_depth': 8, 'max_features': 8, 'min_samples_split': 2}]"
            ]
          },
          "metadata": {
            "tags": []
          },
          "execution_count": 18
        }
      ]
    },
    {
      "cell_type": "code",
      "metadata": {
        "colab": {
          "base_uri": "https://localhost:8080/",
          "height": 197
        },
        "id": "CDT-s93N_mzI",
        "outputId": "0d577027-5b52-4916-badc-2d24b26ae80a"
      },
      "source": [
        "# Group the max depths:\n",
        "max_depth = [item['max_depth'] for item in rs.cv_results_['params']]\n",
        "scores = list(rs.cv_results_['mean_test_score'])\n",
        "\n",
        "d = pd.DataFrame([max_depth, scores]).T\n",
        "d.columns = ['Max Depth', 'Score']\n",
        "d.groupby(['Max Depth']).mean()"
      ],
      "execution_count": 19,
      "outputs": [
        {
          "output_type": "execute_result",
          "data": {
            "text/html": [
              "<div>\n",
              "<style scoped>\n",
              "    .dataframe tbody tr th:only-of-type {\n",
              "        vertical-align: middle;\n",
              "    }\n",
              "\n",
              "    .dataframe tbody tr th {\n",
              "        vertical-align: top;\n",
              "    }\n",
              "\n",
              "    .dataframe thead th {\n",
              "        text-align: right;\n",
              "    }\n",
              "</style>\n",
              "<table border=\"1\" class=\"dataframe\">\n",
              "  <thead>\n",
              "    <tr style=\"text-align: right;\">\n",
              "      <th></th>\n",
              "      <th>Score</th>\n",
              "    </tr>\n",
              "    <tr>\n",
              "      <th>Max Depth</th>\n",
              "      <th></th>\n",
              "    </tr>\n",
              "  </thead>\n",
              "  <tbody>\n",
              "    <tr>\n",
              "      <th>2.0</th>\n",
              "      <td>0.658170</td>\n",
              "    </tr>\n",
              "    <tr>\n",
              "      <th>4.0</th>\n",
              "      <td>0.733855</td>\n",
              "    </tr>\n",
              "    <tr>\n",
              "      <th>6.0</th>\n",
              "      <td>0.802827</td>\n",
              "    </tr>\n",
              "    <tr>\n",
              "      <th>8.0</th>\n",
              "      <td>0.854491</td>\n",
              "    </tr>\n",
              "  </tbody>\n",
              "</table>\n",
              "</div>"
            ],
            "text/plain": [
              "              Score\n",
              "Max Depth          \n",
              "2.0        0.658170\n",
              "4.0        0.733855\n",
              "6.0        0.802827\n",
              "8.0        0.854491"
            ]
          },
          "metadata": {
            "tags": []
          },
          "execution_count": 19
        }
      ]
    },
    {
      "cell_type": "markdown",
      "metadata": {
        "id": "pyKF2HbN_4d3"
      },
      "source": [
        "If we look at the output, a max depth of $2$, $4$, and even $6$ all produced really low scores. However, a max depth of $8$ and $10$ almost achieved $90\\%$ accuracy."
      ]
    },
    {
      "cell_type": "markdown",
      "metadata": {
        "id": "mZ6Hc0RdBYzD"
      },
      "source": [
        "### Selecting the best precision model\n",
        "Your boss has offered to pay for you to see three sports games this year. Of the 41 home games your favorite team plays, you want to ensure you go to three home games that they will definitely win. You build a model to decide which games your team will win.\n",
        "\n",
        "To do this, you will build a random search algorithm and focus on model precision (to ensure your team wins). You also want to keep track of your best model and best parameters, so that you can use them again next year (if the model does well, of course)."
      ]
    },
    {
      "cell_type": "code",
      "metadata": {
        "colab": {
          "base_uri": "https://localhost:8080/",
          "height": 197
        },
        "id": "mzsKt5MnbMkK",
        "outputId": "f9f4fe05-1153-44dc-9864-ff6772f1f42a"
      },
      "source": [
        "sports = pd.read_csv('sports.csv')\n",
        "sports.head()"
      ],
      "execution_count": 20,
      "outputs": [
        {
          "output_type": "execute_result",
          "data": {
            "text/html": [
              "<div>\n",
              "<style scoped>\n",
              "    .dataframe tbody tr th:only-of-type {\n",
              "        vertical-align: middle;\n",
              "    }\n",
              "\n",
              "    .dataframe tbody tr th {\n",
              "        vertical-align: top;\n",
              "    }\n",
              "\n",
              "    .dataframe thead th {\n",
              "        text-align: right;\n",
              "    }\n",
              "</style>\n",
              "<table border=\"1\" class=\"dataframe\">\n",
              "  <thead>\n",
              "    <tr style=\"text-align: right;\">\n",
              "      <th></th>\n",
              "      <th>0</th>\n",
              "      <th>1</th>\n",
              "      <th>2</th>\n",
              "      <th>3</th>\n",
              "      <th>4</th>\n",
              "      <th>5</th>\n",
              "      <th>6</th>\n",
              "      <th>7</th>\n",
              "      <th>8</th>\n",
              "      <th>9</th>\n",
              "      <th>10</th>\n",
              "      <th>11</th>\n",
              "      <th>12</th>\n",
              "      <th>13</th>\n",
              "      <th>14</th>\n",
              "      <th>15</th>\n",
              "      <th>16</th>\n",
              "      <th>17</th>\n",
              "      <th>18</th>\n",
              "      <th>19</th>\n",
              "      <th>20</th>\n",
              "      <th>21</th>\n",
              "      <th>22</th>\n",
              "      <th>23</th>\n",
              "      <th>24</th>\n",
              "      <th>25</th>\n",
              "      <th>26</th>\n",
              "      <th>win</th>\n",
              "    </tr>\n",
              "  </thead>\n",
              "  <tbody>\n",
              "    <tr>\n",
              "      <th>0</th>\n",
              "      <td>0</td>\n",
              "      <td>0</td>\n",
              "      <td>1</td>\n",
              "      <td>0</td>\n",
              "      <td>0</td>\n",
              "      <td>1</td>\n",
              "      <td>0</td>\n",
              "      <td>0</td>\n",
              "      <td>1</td>\n",
              "      <td>0</td>\n",
              "      <td>0</td>\n",
              "      <td>1</td>\n",
              "      <td>0</td>\n",
              "      <td>1</td>\n",
              "      <td>0</td>\n",
              "      <td>0</td>\n",
              "      <td>1</td>\n",
              "      <td>0</td>\n",
              "      <td>0</td>\n",
              "      <td>0</td>\n",
              "      <td>1</td>\n",
              "      <td>0</td>\n",
              "      <td>1</td>\n",
              "      <td>0</td>\n",
              "      <td>0</td>\n",
              "      <td>1</td>\n",
              "      <td>0</td>\n",
              "      <td>1</td>\n",
              "    </tr>\n",
              "    <tr>\n",
              "      <th>1</th>\n",
              "      <td>0</td>\n",
              "      <td>0</td>\n",
              "      <td>1</td>\n",
              "      <td>0</td>\n",
              "      <td>0</td>\n",
              "      <td>1</td>\n",
              "      <td>0</td>\n",
              "      <td>0</td>\n",
              "      <td>1</td>\n",
              "      <td>0</td>\n",
              "      <td>0</td>\n",
              "      <td>1</td>\n",
              "      <td>0</td>\n",
              "      <td>1</td>\n",
              "      <td>0</td>\n",
              "      <td>0</td>\n",
              "      <td>1</td>\n",
              "      <td>0</td>\n",
              "      <td>0</td>\n",
              "      <td>1</td>\n",
              "      <td>0</td>\n",
              "      <td>0</td>\n",
              "      <td>0</td>\n",
              "      <td>1</td>\n",
              "      <td>0</td>\n",
              "      <td>1</td>\n",
              "      <td>0</td>\n",
              "      <td>1</td>\n",
              "    </tr>\n",
              "    <tr>\n",
              "      <th>2</th>\n",
              "      <td>0</td>\n",
              "      <td>0</td>\n",
              "      <td>1</td>\n",
              "      <td>0</td>\n",
              "      <td>0</td>\n",
              "      <td>1</td>\n",
              "      <td>0</td>\n",
              "      <td>0</td>\n",
              "      <td>1</td>\n",
              "      <td>0</td>\n",
              "      <td>0</td>\n",
              "      <td>1</td>\n",
              "      <td>0</td>\n",
              "      <td>1</td>\n",
              "      <td>0</td>\n",
              "      <td>0</td>\n",
              "      <td>1</td>\n",
              "      <td>0</td>\n",
              "      <td>0</td>\n",
              "      <td>1</td>\n",
              "      <td>0</td>\n",
              "      <td>0</td>\n",
              "      <td>1</td>\n",
              "      <td>0</td>\n",
              "      <td>0</td>\n",
              "      <td>0</td>\n",
              "      <td>1</td>\n",
              "      <td>1</td>\n",
              "    </tr>\n",
              "    <tr>\n",
              "      <th>3</th>\n",
              "      <td>0</td>\n",
              "      <td>0</td>\n",
              "      <td>1</td>\n",
              "      <td>0</td>\n",
              "      <td>0</td>\n",
              "      <td>1</td>\n",
              "      <td>0</td>\n",
              "      <td>0</td>\n",
              "      <td>1</td>\n",
              "      <td>0</td>\n",
              "      <td>0</td>\n",
              "      <td>1</td>\n",
              "      <td>0</td>\n",
              "      <td>1</td>\n",
              "      <td>0</td>\n",
              "      <td>0</td>\n",
              "      <td>1</td>\n",
              "      <td>0</td>\n",
              "      <td>0</td>\n",
              "      <td>1</td>\n",
              "      <td>0</td>\n",
              "      <td>1</td>\n",
              "      <td>0</td>\n",
              "      <td>0</td>\n",
              "      <td>1</td>\n",
              "      <td>0</td>\n",
              "      <td>0</td>\n",
              "      <td>1</td>\n",
              "    </tr>\n",
              "    <tr>\n",
              "      <th>4</th>\n",
              "      <td>0</td>\n",
              "      <td>0</td>\n",
              "      <td>1</td>\n",
              "      <td>0</td>\n",
              "      <td>0</td>\n",
              "      <td>1</td>\n",
              "      <td>0</td>\n",
              "      <td>0</td>\n",
              "      <td>1</td>\n",
              "      <td>0</td>\n",
              "      <td>0</td>\n",
              "      <td>1</td>\n",
              "      <td>0</td>\n",
              "      <td>1</td>\n",
              "      <td>0</td>\n",
              "      <td>0</td>\n",
              "      <td>1</td>\n",
              "      <td>0</td>\n",
              "      <td>1</td>\n",
              "      <td>0</td>\n",
              "      <td>0</td>\n",
              "      <td>0</td>\n",
              "      <td>1</td>\n",
              "      <td>0</td>\n",
              "      <td>1</td>\n",
              "      <td>0</td>\n",
              "      <td>0</td>\n",
              "      <td>1</td>\n",
              "    </tr>\n",
              "  </tbody>\n",
              "</table>\n",
              "</div>"
            ],
            "text/plain": [
              "   0  1  2  3  4  5  6  7  8  9  ...  18  19  20  21  22  23  24  25  26  win\n",
              "0  0  0  1  0  0  1  0  0  1  0  ...   0   0   1   0   1   0   0   1   0    1\n",
              "1  0  0  1  0  0  1  0  0  1  0  ...   0   1   0   0   0   1   0   1   0    1\n",
              "2  0  0  1  0  0  1  0  0  1  0  ...   0   1   0   0   1   0   0   0   1    1\n",
              "3  0  0  1  0  0  1  0  0  1  0  ...   0   1   0   1   0   0   1   0   0    1\n",
              "4  0  0  1  0  0  1  0  0  1  0  ...   1   0   0   0   1   0   1   0   0    1\n",
              "\n",
              "[5 rows x 28 columns]"
            ]
          },
          "metadata": {
            "tags": []
          },
          "execution_count": 20
        }
      ]
    },
    {
      "cell_type": "code",
      "metadata": {
        "id": "4AE29EgjBYzE"
      },
      "source": [
        "X = sports.drop('win', axis=1)\n",
        "y = sports['win']"
      ],
      "execution_count": 21,
      "outputs": []
    },
    {
      "cell_type": "code",
      "metadata": {
        "id": "-u-WH8SBBYzE"
      },
      "source": [
        "rfc = RandomForestClassifier()\n",
        "\n",
        "param_dist = {\n",
        "    'max_depth': range(2, 12, 2),\n",
        "    'min_samples_split': range(2, 12, 2),\n",
        "    'n_estimators': [10, 25, 50]\n",
        "}"
      ],
      "execution_count": 22,
      "outputs": []
    },
    {
      "cell_type": "code",
      "metadata": {
        "id": "Ry9q2MYnBYzF",
        "colab": {
          "base_uri": "https://localhost:8080/"
        },
        "outputId": "136e3c6d-1a18-402b-ed2d-afb46f8e2cc2"
      },
      "source": [
        "from sklearn.metrics import precision_score\n",
        "\n",
        "# Create a precision scorer\n",
        "precision = make_scorer(precision_score)\n",
        "\n",
        "# Finalize the random search\n",
        "rs = RandomizedSearchCV(estimator=rfc,\n",
        "                        param_distributions=param_dict,\n",
        "                        scoring=precision,\n",
        "                        cv=5,\n",
        "                        n_iter=10,\n",
        "                        random_state=1111)\n",
        "\n",
        "rs.fit(X, y)\n",
        "\n",
        "# Print the mean test scores:\n",
        "print('The accuracy for each run was: {}.'.format(rs.cv_results_['mean_test_score']))\n",
        "# Print the best model scores:\n",
        "print('The best accuracy for a single model was: {}'.format(rs.best_score_))"
      ],
      "execution_count": 23,
      "outputs": [
        {
          "output_type": "stream",
          "text": [
            "The accuracy for each run was: [0.84026653 0.77758575 0.71609262 0.89357232 0.7645119  0.89167668\n",
            " 0.7673058  0.86132285 0.70377573 0.95290194].\n",
            "The best accuracy for a single model was: 0.9529019405138808\n"
          ],
          "name": "stdout"
        }
      ]
    },
    {
      "cell_type": "markdown",
      "metadata": {
        "id": "fR2-4GHXBYzH"
      },
      "source": [
        "> ***our model's precision was 93%! The best model accurately predicts a winning game 93% of the time. If you look at the mean test scores, you can tell some of the other parameter sets did really poorly. Also, since you used cross-validation, you can be confident in your predictions.***"
      ]
    },
    {
      "cell_type": "markdown",
      "metadata": {
        "id": "F3K0SmYk_2ff"
      },
      "source": [
        "## __Connect with Me__ \n",
        "--- \n",
        "[<img align=\"left\" alt=\"codeSTACKr | Twitter\" width=\"40px\" src=\"https://cdn.jsdelivr.net/npm/simple-icons@v3/icons/twitter.svg\" />][twitter] \n",
        "[<img align=\"left\" alt=\"codeSTACKr | LinkedIn\" width=\"40px\" src=\"https://cdn.jsdelivr.net/npm/simple-icons@v3/icons/linkedin.svg\" />][linkedin] \n",
        "[<img align=\"left\" alt=\"codeSTACKr.com\" width=\"40px\" src=\"https://raw.githubusercontent.com/iconic/open-iconic/master/svg/globe.svg\" />][StackExchange AI] \n",
        "[twitter]: https://twitter.com/F4izy \n",
        "--- \n",
        "[linkedin]: https://www.linkedin.com/in/mohd-faizy/ \n",
        "--- \n",
        "[StackExchange AI]: https://mohd-faizy.github.io\n",
        "--- \n",
        "--- \n",
        "--- \n",
        "---"
      ]
    }
  ]
}