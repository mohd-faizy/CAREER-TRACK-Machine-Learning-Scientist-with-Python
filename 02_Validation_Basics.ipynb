{
  "nbformat": 4,
  "nbformat_minor": 0,
  "metadata": {
    "kernelspec": {
      "display_name": "Python 3",
      "language": "python",
      "name": "python3"
    },
    "language_info": {
      "codemirror_mode": {
        "name": "ipython",
        "version": 3
      },
      "file_extension": ".py",
      "mimetype": "text/x-python",
      "name": "python",
      "nbconvert_exporter": "python",
      "pygments_lexer": "ipython3",
      "version": "3.7.6"
    },
    "colab": {
      "name": "02_Validation-Basics.ipynb",
      "provenance": [],
      "toc_visible": true,
      "include_colab_link": true
    }
  },
  "cells": [
    {
      "cell_type": "markdown",
      "metadata": {
        "id": "view-in-github",
        "colab_type": "text"
      },
      "source": [
        "<a href=\"https://colab.research.google.com/github/mohd-faizy/CAREER-TRACK-Machine-Learning-Scientist-with-Python/blob/main/02_Validation_Basics.ipynb\" target=\"_parent\"><img src=\"https://colab.research.google.com/assets/colab-badge.svg\" alt=\"Open In Colab\"/></a>"
      ]
    },
    {
      "cell_type": "markdown",
      "metadata": {
        "id": "ItfjD-Nq_RFa"
      },
      "source": [
        "--- \n",
        "<strong> \n",
        "    <h1 align='center'>Creating train-test & validation datasets</h1> \n",
        "</strong>\n",
        "\n",
        "---\n",
        "\n",
        "This chapter focuses on the basics of model validation. From splitting data into training, validation, and testing datasets, to creating an understanding of the bias-variance tradeoff, we build the foundation for the techniques of K-Fold and Leave-One-Out validation practiced in chapter three."
      ]
    },
    {
      "cell_type": "code",
      "metadata": {
        "colab": {
          "base_uri": "https://localhost:8080/"
        },
        "id": "MBwrq_tJ_b_B",
        "outputId": "b9dca8dd-6edc-41f9-b06e-c9a776d87441"
      },
      "source": [
        "!git clone https://github.com/mohd-faizy/CAREER-TRACK-Machine-Learning-Scientist-with-Python.git"
      ],
      "execution_count": 1,
      "outputs": [
        {
          "output_type": "stream",
          "text": [
            "Cloning into 'CAREER-TRACK-Machine-Learning-Scientist-with-Python'...\n",
            "remote: Enumerating objects: 657, done.\u001b[K\n",
            "remote: Counting objects: 100% (328/328), done.\u001b[K\n",
            "remote: Compressing objects: 100% (293/293), done.\u001b[K\n",
            "remote: Total 657 (delta 76), reused 269 (delta 33), pack-reused 329\u001b[K\n",
            "Receiving objects: 100% (657/657), 201.13 MiB | 33.49 MiB/s, done.\n",
            "Resolving deltas: 100% (202/202), done.\n",
            "Checking out files: 100% (311/311), done.\n"
          ],
          "name": "stdout"
        }
      ]
    },
    {
      "cell_type": "code",
      "metadata": {
        "id": "RV6e3XLr_i-Y"
      },
      "source": [
        "import numpy as np\n",
        "import pandas as pd\n",
        "import matplotlib.pyplot as plt\n",
        "import seaborn as sns\n",
        "import os\n",
        "\n",
        "plt.style.use('fivethirtyeight')\n",
        "#plt.style.use('ggplot')\n",
        "#sns.set_theme()\n",
        "\n",
        "%matplotlib inline"
      ],
      "execution_count": 2,
      "outputs": []
    },
    {
      "cell_type": "code",
      "metadata": {
        "colab": {
          "base_uri": "https://localhost:8080/"
        },
        "id": "xuNcMmq4_klc",
        "outputId": "d636d6d9-466f-4d41-e043-492f33dcb02f"
      },
      "source": [
        "os.chdir('/content/CAREER-TRACK-Machine-Learning-Scientist-with-Python/10_Model_Validation_in_Python/_dataset')\n",
        "cwd = os.getcwd()\n",
        "print('Curent working directory is ', cwd)"
      ],
      "execution_count": 3,
      "outputs": [
        {
          "output_type": "stream",
          "text": [
            "Curent working directory is  /content/CAREER-TRACK-Machine-Learning-Scientist-with-Python/10_Model_Validation_in_Python/_dataset\n"
          ],
          "name": "stdout"
        }
      ]
    },
    {
      "cell_type": "code",
      "metadata": {
        "colab": {
          "base_uri": "https://localhost:8080/"
        },
        "id": "i5sVNREN_xi_",
        "outputId": "8ae8fe31-7c66-4b61-80f3-82c41a308c1e"
      },
      "source": [
        "ls"
      ],
      "execution_count": 4,
      "outputs": [
        {
          "output_type": "stream",
          "text": [
            "candy-data.csv  sports.csv  tic-tac-toe.csv\n"
          ],
          "name": "stdout"
        }
      ]
    },
    {
      "cell_type": "markdown",
      "metadata": {
        "id": "Cip00ONoBY31"
      },
      "source": [
        "## Creating train,test, and validation datasets\n",
        "- Traditional __`train_test_split`__\n",
        "    - Seen data (***used for training***)\n",
        "    - Unseen data (***unavailable for training***)\n",
        "\n",
        "We define a holdout dataset as any data **that is not used for training** and **is only used to assess model performance**.\n",
        "\n",
        "<p align='center'>\n",
        "\t<a href='#'><img src='https://miro.medium.com/max/1466/1*aNPC1ifHN2WydKHyEZYENg.png'>\n",
        "    </a>\n",
        "</p>\n",
        "\n",
        "$$\n",
        "\\begin{array}{ll}\n",
        "\\text { Dataset } & \\text { Definition } \\\\\n",
        "\\text { Train } & \\text { The sample of data used when fitting models } \\\\\n",
        "\\text { Test (holdout sample) } & \\text { The sample of data used to assess model performance }\n",
        "\\end{array}\n",
        "$$\n",
        "\n",
        "**Ratio Examples**\n",
        "- $80:20$\n",
        "- $90:10$ (used when we have little data)\n",
        "- $70:30$ (used when model is computationally expensive)"
      ]
    },
    {
      "cell_type": "markdown",
      "metadata": {
        "id": "p7xxGnvyBY31"
      },
      "source": [
        "### Create **one holdout** set\n",
        "\n",
        "Your boss has asked you to create a simple random forest model on the `tic_tac_toe` dataset. She doesn't want you to spend much time selecting parameters; rather she wants to know how well the model will perform on future data. For future Tic-Tac-Toe games, it would be nice to know if your model can predict which player will win."
      ]
    },
    {
      "cell_type": "code",
      "metadata": {
        "id": "JLvpPkR8BY32",
        "colab": {
          "base_uri": "https://localhost:8080/",
          "height": 197
        },
        "outputId": "27b04b23-06ec-48dc-b51a-9a397a5b496f"
      },
      "source": [
        "tic_tac_toe = pd.read_csv('tic-tac-toe.csv')\n",
        "tic_tac_toe.head()"
      ],
      "execution_count": 5,
      "outputs": [
        {
          "output_type": "execute_result",
          "data": {
            "text/html": [
              "<div>\n",
              "<style scoped>\n",
              "    .dataframe tbody tr th:only-of-type {\n",
              "        vertical-align: middle;\n",
              "    }\n",
              "\n",
              "    .dataframe tbody tr th {\n",
              "        vertical-align: top;\n",
              "    }\n",
              "\n",
              "    .dataframe thead th {\n",
              "        text-align: right;\n",
              "    }\n",
              "</style>\n",
              "<table border=\"1\" class=\"dataframe\">\n",
              "  <thead>\n",
              "    <tr style=\"text-align: right;\">\n",
              "      <th></th>\n",
              "      <th>Top-Left</th>\n",
              "      <th>Top-Middle</th>\n",
              "      <th>Top-Right</th>\n",
              "      <th>Middle-Left</th>\n",
              "      <th>Middle-Middle</th>\n",
              "      <th>Middle-Right</th>\n",
              "      <th>Bottom-Left</th>\n",
              "      <th>Bottom-Middle</th>\n",
              "      <th>Bottom-Right</th>\n",
              "      <th>Class</th>\n",
              "    </tr>\n",
              "  </thead>\n",
              "  <tbody>\n",
              "    <tr>\n",
              "      <th>0</th>\n",
              "      <td>x</td>\n",
              "      <td>x</td>\n",
              "      <td>x</td>\n",
              "      <td>x</td>\n",
              "      <td>o</td>\n",
              "      <td>o</td>\n",
              "      <td>x</td>\n",
              "      <td>o</td>\n",
              "      <td>o</td>\n",
              "      <td>positive</td>\n",
              "    </tr>\n",
              "    <tr>\n",
              "      <th>1</th>\n",
              "      <td>x</td>\n",
              "      <td>x</td>\n",
              "      <td>x</td>\n",
              "      <td>x</td>\n",
              "      <td>o</td>\n",
              "      <td>o</td>\n",
              "      <td>o</td>\n",
              "      <td>x</td>\n",
              "      <td>o</td>\n",
              "      <td>positive</td>\n",
              "    </tr>\n",
              "    <tr>\n",
              "      <th>2</th>\n",
              "      <td>x</td>\n",
              "      <td>x</td>\n",
              "      <td>x</td>\n",
              "      <td>x</td>\n",
              "      <td>o</td>\n",
              "      <td>o</td>\n",
              "      <td>o</td>\n",
              "      <td>o</td>\n",
              "      <td>x</td>\n",
              "      <td>positive</td>\n",
              "    </tr>\n",
              "    <tr>\n",
              "      <th>3</th>\n",
              "      <td>x</td>\n",
              "      <td>x</td>\n",
              "      <td>x</td>\n",
              "      <td>x</td>\n",
              "      <td>o</td>\n",
              "      <td>o</td>\n",
              "      <td>o</td>\n",
              "      <td>b</td>\n",
              "      <td>b</td>\n",
              "      <td>positive</td>\n",
              "    </tr>\n",
              "    <tr>\n",
              "      <th>4</th>\n",
              "      <td>x</td>\n",
              "      <td>x</td>\n",
              "      <td>x</td>\n",
              "      <td>x</td>\n",
              "      <td>o</td>\n",
              "      <td>o</td>\n",
              "      <td>b</td>\n",
              "      <td>o</td>\n",
              "      <td>b</td>\n",
              "      <td>positive</td>\n",
              "    </tr>\n",
              "  </tbody>\n",
              "</table>\n",
              "</div>"
            ],
            "text/plain": [
              "  Top-Left Top-Middle Top-Right  ... Bottom-Middle Bottom-Right     Class\n",
              "0        x          x         x  ...             o            o  positive\n",
              "1        x          x         x  ...             x            o  positive\n",
              "2        x          x         x  ...             o            x  positive\n",
              "3        x          x         x  ...             b            b  positive\n",
              "4        x          x         x  ...             o            b  positive\n",
              "\n",
              "[5 rows x 10 columns]"
            ]
          },
          "metadata": {
            "tags": []
          },
          "execution_count": 5
        }
      ]
    },
    {
      "cell_type": "markdown",
      "metadata": {
        "id": "KNkXqKSo291e"
      },
      "source": [
        "**Parameters**\n",
        "- `test_size`\n",
        "- `train_size`\n",
        "- `random_state`\n",
        "\n",
        "`test_size` takes either a float or an integer and specifies how big the test set should be.\n",
        "\n",
        "If `test_size` is blank, you can instead use `train_size` to set the size of the training set.\n",
        "\n",
        " And finally, `random_state` allows for setting the model seed and helps maintain reproducibility."
      ]
    },
    {
      "cell_type": "code",
      "metadata": {
        "id": "P10ynB4iBY33"
      },
      "source": [
        "from sklearn.model_selection import train_test_split\n",
        "\n",
        "# Create dummy variables using pandas\n",
        "# The first nine columns of tic_tac_toe can be used for training,\n",
        "X = pd.get_dummies(tic_tac_toe.iloc[:, 0:9])\n",
        "# while the 10th column contains the response values\n",
        "y = tic_tac_toe.iloc[:, 9]\n",
        "\n",
        "# Create training and testing datasets, Use 10% for the test set\n",
        "X_train, X_test, y_train, y_test = train_test_split(X, y, test_size=0.1, random_state=1111)"
      ],
      "execution_count": 6,
      "outputs": []
    },
    {
      "cell_type": "code",
      "metadata": {
        "colab": {
          "base_uri": "https://localhost:8080/",
          "height": 234
        },
        "id": "9zw2lnknd6jN",
        "outputId": "f610b777-024d-4416-de38-cb779d954442"
      },
      "source": [
        "X.head()"
      ],
      "execution_count": 7,
      "outputs": [
        {
          "output_type": "execute_result",
          "data": {
            "text/html": [
              "<div>\n",
              "<style scoped>\n",
              "    .dataframe tbody tr th:only-of-type {\n",
              "        vertical-align: middle;\n",
              "    }\n",
              "\n",
              "    .dataframe tbody tr th {\n",
              "        vertical-align: top;\n",
              "    }\n",
              "\n",
              "    .dataframe thead th {\n",
              "        text-align: right;\n",
              "    }\n",
              "</style>\n",
              "<table border=\"1\" class=\"dataframe\">\n",
              "  <thead>\n",
              "    <tr style=\"text-align: right;\">\n",
              "      <th></th>\n",
              "      <th>Top-Left_b</th>\n",
              "      <th>Top-Left_o</th>\n",
              "      <th>Top-Left_x</th>\n",
              "      <th>Top-Middle_b</th>\n",
              "      <th>Top-Middle_o</th>\n",
              "      <th>Top-Middle_x</th>\n",
              "      <th>Top-Right_b</th>\n",
              "      <th>Top-Right_o</th>\n",
              "      <th>Top-Right_x</th>\n",
              "      <th>Middle-Left_b</th>\n",
              "      <th>Middle-Left_o</th>\n",
              "      <th>Middle-Left_x</th>\n",
              "      <th>Middle-Middle_b</th>\n",
              "      <th>Middle-Middle_o</th>\n",
              "      <th>Middle-Middle_x</th>\n",
              "      <th>Middle-Right_b</th>\n",
              "      <th>Middle-Right_o</th>\n",
              "      <th>Middle-Right_x</th>\n",
              "      <th>Bottom-Left_b</th>\n",
              "      <th>Bottom-Left_o</th>\n",
              "      <th>Bottom-Left_x</th>\n",
              "      <th>Bottom-Middle_b</th>\n",
              "      <th>Bottom-Middle_o</th>\n",
              "      <th>Bottom-Middle_x</th>\n",
              "      <th>Bottom-Right_b</th>\n",
              "      <th>Bottom-Right_o</th>\n",
              "      <th>Bottom-Right_x</th>\n",
              "    </tr>\n",
              "  </thead>\n",
              "  <tbody>\n",
              "    <tr>\n",
              "      <th>0</th>\n",
              "      <td>0</td>\n",
              "      <td>0</td>\n",
              "      <td>1</td>\n",
              "      <td>0</td>\n",
              "      <td>0</td>\n",
              "      <td>1</td>\n",
              "      <td>0</td>\n",
              "      <td>0</td>\n",
              "      <td>1</td>\n",
              "      <td>0</td>\n",
              "      <td>0</td>\n",
              "      <td>1</td>\n",
              "      <td>0</td>\n",
              "      <td>1</td>\n",
              "      <td>0</td>\n",
              "      <td>0</td>\n",
              "      <td>1</td>\n",
              "      <td>0</td>\n",
              "      <td>0</td>\n",
              "      <td>0</td>\n",
              "      <td>1</td>\n",
              "      <td>0</td>\n",
              "      <td>1</td>\n",
              "      <td>0</td>\n",
              "      <td>0</td>\n",
              "      <td>1</td>\n",
              "      <td>0</td>\n",
              "    </tr>\n",
              "    <tr>\n",
              "      <th>1</th>\n",
              "      <td>0</td>\n",
              "      <td>0</td>\n",
              "      <td>1</td>\n",
              "      <td>0</td>\n",
              "      <td>0</td>\n",
              "      <td>1</td>\n",
              "      <td>0</td>\n",
              "      <td>0</td>\n",
              "      <td>1</td>\n",
              "      <td>0</td>\n",
              "      <td>0</td>\n",
              "      <td>1</td>\n",
              "      <td>0</td>\n",
              "      <td>1</td>\n",
              "      <td>0</td>\n",
              "      <td>0</td>\n",
              "      <td>1</td>\n",
              "      <td>0</td>\n",
              "      <td>0</td>\n",
              "      <td>1</td>\n",
              "      <td>0</td>\n",
              "      <td>0</td>\n",
              "      <td>0</td>\n",
              "      <td>1</td>\n",
              "      <td>0</td>\n",
              "      <td>1</td>\n",
              "      <td>0</td>\n",
              "    </tr>\n",
              "    <tr>\n",
              "      <th>2</th>\n",
              "      <td>0</td>\n",
              "      <td>0</td>\n",
              "      <td>1</td>\n",
              "      <td>0</td>\n",
              "      <td>0</td>\n",
              "      <td>1</td>\n",
              "      <td>0</td>\n",
              "      <td>0</td>\n",
              "      <td>1</td>\n",
              "      <td>0</td>\n",
              "      <td>0</td>\n",
              "      <td>1</td>\n",
              "      <td>0</td>\n",
              "      <td>1</td>\n",
              "      <td>0</td>\n",
              "      <td>0</td>\n",
              "      <td>1</td>\n",
              "      <td>0</td>\n",
              "      <td>0</td>\n",
              "      <td>1</td>\n",
              "      <td>0</td>\n",
              "      <td>0</td>\n",
              "      <td>1</td>\n",
              "      <td>0</td>\n",
              "      <td>0</td>\n",
              "      <td>0</td>\n",
              "      <td>1</td>\n",
              "    </tr>\n",
              "    <tr>\n",
              "      <th>3</th>\n",
              "      <td>0</td>\n",
              "      <td>0</td>\n",
              "      <td>1</td>\n",
              "      <td>0</td>\n",
              "      <td>0</td>\n",
              "      <td>1</td>\n",
              "      <td>0</td>\n",
              "      <td>0</td>\n",
              "      <td>1</td>\n",
              "      <td>0</td>\n",
              "      <td>0</td>\n",
              "      <td>1</td>\n",
              "      <td>0</td>\n",
              "      <td>1</td>\n",
              "      <td>0</td>\n",
              "      <td>0</td>\n",
              "      <td>1</td>\n",
              "      <td>0</td>\n",
              "      <td>0</td>\n",
              "      <td>1</td>\n",
              "      <td>0</td>\n",
              "      <td>1</td>\n",
              "      <td>0</td>\n",
              "      <td>0</td>\n",
              "      <td>1</td>\n",
              "      <td>0</td>\n",
              "      <td>0</td>\n",
              "    </tr>\n",
              "    <tr>\n",
              "      <th>4</th>\n",
              "      <td>0</td>\n",
              "      <td>0</td>\n",
              "      <td>1</td>\n",
              "      <td>0</td>\n",
              "      <td>0</td>\n",
              "      <td>1</td>\n",
              "      <td>0</td>\n",
              "      <td>0</td>\n",
              "      <td>1</td>\n",
              "      <td>0</td>\n",
              "      <td>0</td>\n",
              "      <td>1</td>\n",
              "      <td>0</td>\n",
              "      <td>1</td>\n",
              "      <td>0</td>\n",
              "      <td>0</td>\n",
              "      <td>1</td>\n",
              "      <td>0</td>\n",
              "      <td>1</td>\n",
              "      <td>0</td>\n",
              "      <td>0</td>\n",
              "      <td>0</td>\n",
              "      <td>1</td>\n",
              "      <td>0</td>\n",
              "      <td>1</td>\n",
              "      <td>0</td>\n",
              "      <td>0</td>\n",
              "    </tr>\n",
              "  </tbody>\n",
              "</table>\n",
              "</div>"
            ],
            "text/plain": [
              "   Top-Left_b  Top-Left_o  ...  Bottom-Right_o  Bottom-Right_x\n",
              "0           0           0  ...               1               0\n",
              "1           0           0  ...               1               0\n",
              "2           0           0  ...               0               1\n",
              "3           0           0  ...               0               0\n",
              "4           0           0  ...               0               0\n",
              "\n",
              "[5 rows x 27 columns]"
            ]
          },
          "metadata": {
            "tags": []
          },
          "execution_count": 7
        }
      ]
    },
    {
      "cell_type": "code",
      "metadata": {
        "colab": {
          "base_uri": "https://localhost:8080/"
        },
        "id": "aAQIrTx1d8Th",
        "outputId": "3c94b00b-e58f-4f2f-f7e7-5b6274a9a1a2"
      },
      "source": [
        "y.head()"
      ],
      "execution_count": 8,
      "outputs": [
        {
          "output_type": "execute_result",
          "data": {
            "text/plain": [
              "0    positive\n",
              "1    positive\n",
              "2    positive\n",
              "3    positive\n",
              "4    positive\n",
              "Name: Class, dtype: object"
            ]
          },
          "metadata": {
            "tags": []
          },
          "execution_count": 8
        }
      ]
    },
    {
      "cell_type": "markdown",
      "metadata": {
        "id": "PKORbekdBY35"
      },
      "source": [
        "### Create **two holdout** sets\n",
        "\n",
        "You recently created a simple random forest model to predict Tic-Tac-Toe game wins for your boss, and at her request, you did not do any parameter tuning. Unfortunately, the overall model accuracy was too low for her standards. This time around, she has asked you to focus on model performance.\n",
        "\n",
        "Before you start testing different models and parameter sets, you will need to split the data into training, validation, and testing datasets. Remember that after splitting the data into training and testing datasets, the validation dataset is created by splitting the training dataset.\n",
        "\n",
        "<p align='center'>\n",
        "\t<a href='#'><img src='https://i.stack.imgur.com/pXAfX.png' height=380, width= 600>\n",
        "    </a>\n",
        "</p>\n"
      ]
    },
    {
      "cell_type": "code",
      "metadata": {
        "id": "XevDnIMfBY36"
      },
      "source": [
        "# Create temporary training and Final Testing datasets\n",
        "X_temp, X_test, y_temp, y_test = train_test_split(X, y,\n",
        "                                                  test_size=0.2,\n",
        "                                                  random_state=1111)\n",
        "\n",
        "# Create the final training and validation datasets\n",
        "X_train, X_val, y_train, y_val = train_test_split(X_temp, y_temp, \n",
        "                                                  test_size=0.25,\n",
        "                                                  random_state=1111)"
      ],
      "execution_count": 9,
      "outputs": []
    },
    {
      "cell_type": "markdown",
      "metadata": {
        "id": "iAmP1FVvBY37"
      },
      "source": [
        "You now have training, validation, and testing datasets, but do you know when you need both validation and testing datasets?"
      ]
    },
    {
      "cell_type": "markdown",
      "metadata": {
        "id": "6FBV7r_f-S-d"
      },
      "source": [
        "It is important to understand when you would use three datasets (training, validation, and testing) instead of two (training and testing). There is no point in creating an additional dataset split if you are not going to use it.\n",
        "\n",
        "**Validation set** is used for tuning the parameters of a model.\n",
        "\n",
        "---\n",
        "\n",
        "${\\text{When should you consider using training, validation, and testing datasets?}}$\n",
        "\n",
        "> **When testing parameters, tuning hyper-parameters, or Anytime we are evaluating model performance repeatedly we need to create training, validation, and testing datasets.**"
      ]
    },
    {
      "cell_type": "markdown",
      "metadata": {
        "id": "x5oEAK1jBY37"
      },
      "source": [
        "## **Accuracy metrics**: Regression Models\n",
        "\n",
        "- **Mean absolute error (MAE)**\n",
        "$$ \\text{MAE} = \\frac{\\sum_{i=1}^{n} \\vert y_i - \\hat{y_i} \\vert}{n} $$\n",
        "    - **Simplest and most intuitive metric**\n",
        "    - **Treats all points equally**\n",
        "    - **Not sensitive to outlier** \n",
        "\n",
        "    This metric **treats all points equally** and is **not sensitive to outliers**. When dealing with applications **where we don't want large errors to have a major impact**, the mean absolute error can be used. An **example** could be predicting your car's monthly gas bill, when an outlier may have been caused by a one-time road trip.\n",
        "\n",
        "\n",
        "- **Mean squared error (MSE)**\n",
        "$$ \\text{MSE} = \\frac{\\sum_{i=1}^{n}(y_i - \\hat{y_i})^2}{n} $$\n",
        "    - **Most widely used regression metric**\n",
        "    - **Allows outlier errors to contribute more to the overall error**\n",
        "    - **Random family road trips could lead to large errors in predictions**\n",
        "\n",
        "    Mean Squared Error(MSE) is the most **widely used regression error metric for regression models**. It is calculated similarly to the mean absolute error, but this time **we square the difference term**. **The MSE allows larger errors to have a larger impact on the model**. Using the previous car example, if you knew once a year you might go on a road trip, you might expect to occasionally have a large error and would want your model to pick up on these trips.\n",
        "\n",
        "\n",
        "- **MAE vs. MSE**\n",
        "    - **Accuracy metrics are always application apecific**\n",
        "    - **MAE and MSE error terms are in different units and should not be compared**"
      ]
    },
    {
      "cell_type": "markdown",
      "metadata": {
        "id": "hXRsXbylBY38"
      },
      "source": [
        "### **Mean Absolute Error**\n",
        "Communicating modeling results can be difficult. However, most clients understand that on average, a predictive model was off by some number. This makes explaining the mean absolute error easy. For example, when predicting the number of wins for a basketball team, if you predict 42, and they end up with 40, you can easily explain that the error was two wins.\n",
        "\n",
        "In this exercise, you are interviewing for a new position and are provided with two arrays. `y_test`, the true number of wins for all 30 NBA teams in 2017 and `predictions`, which contains a prediction for each team. To test your understanding, you are asked to both manually calculate the MAE and use `sklearn`.\n"
      ]
    },
    {
      "cell_type": "code",
      "metadata": {
        "id": "ifYmwOzCBY39"
      },
      "source": [
        "y_test = np.array([53, 51, 51, 49, 43, 42, 42, 41, 41,\n",
        "                   37, 36, 31, 29, 28, 20, 67, 61, 55,\n",
        "                   51, 51, 47, 43, 41, 40, 34, 33, 32,\n",
        "                   31, 26, 24])\n",
        "\n",
        "y_pred = np.array([60, 62, 42, 42, 30, 50, 52, 42, 44,\n",
        "                   35, 30, 30, 35, 40, 15, 72, 58, 60, \n",
        "                   40, 42, 45, 46, 40, 35, 25, 40, 20, \n",
        "                   34, 25, 24])"
      ],
      "execution_count": 10,
      "outputs": []
    },
    {
      "cell_type": "code",
      "metadata": {
        "id": "HKqUU_zUBY3-",
        "colab": {
          "base_uri": "https://localhost:8080/"
        },
        "outputId": "60e65f09-70fa-4d1c-c4bd-7dfd832fdadb"
      },
      "source": [
        "from sklearn.metrics import mean_absolute_error as mae\n",
        "\n",
        "# Manually calculate the MAE\n",
        "n = len(y_pred)\n",
        "mae_one = sum(abs(y_test - y_pred)) / n\n",
        "print('With a manual calculation, the error is {}'.format(mae_one))\n",
        "\n",
        "# Use scikit-learn to calculate the MAE\n",
        "mae_two = mae(y_test, y_pred)\n",
        "print('Using scikit-learn, the error is {}'.format(mae_two))"
      ],
      "execution_count": 11,
      "outputs": [
        {
          "output_type": "stream",
          "text": [
            "With a manual calculation, the error is 5.9\n",
            "Using scikit-learn, the error is 5.9\n"
          ],
          "name": "stdout"
        }
      ]
    },
    {
      "cell_type": "markdown",
      "metadata": {
        "id": "QrxRVcBjBY3_"
      },
      "source": [
        "These predictions were about six wins off on average. This isn't too bad considering NBA teams play 82 games a year. Let's see how these errors would look if you used the mean squared error instead."
      ]
    },
    {
      "cell_type": "markdown",
      "metadata": {
        "id": "qrfdpYRwBY4A"
      },
      "source": [
        "### **Mean Squared Error**\n",
        "Let's focus on the 2017 NBA predictions again. Every year, there are at least a couple of NBA teams that win way more games than expected. If you use the MAE, this accuracy metric does not reflect the bad predictions as much as if you use the MSE. Squaring the large errors from bad predictions will make the accuracy look worse.\n",
        "\n",
        "In this example, NBA executives want to better predict team wins. You will use the mean squared error to calculate the prediction error. The actual wins are loaded as `y_test` and the `predictions` as predictions."
      ]
    },
    {
      "cell_type": "code",
      "metadata": {
        "id": "4VFXmV3PBY4A",
        "colab": {
          "base_uri": "https://localhost:8080/"
        },
        "outputId": "e9537ef0-87bd-49bc-bcfd-c675be046686"
      },
      "source": [
        "from sklearn.metrics import mean_squared_error as mse\n",
        "\n",
        "n = len(y_pred)\n",
        "# Finish the manual calculation of the MSE\n",
        "mse_one = sum((y_test - y_pred) ** 2) / n\n",
        "print('With a manual calculation, the error is {}'.format(mse_one))\n",
        "\n",
        "# Use the scikit-learn function to calculate MSE\n",
        "mse_two = mse(y_test, y_pred)\n",
        "print('Using scikit-learn, the error is {}'.format(mse_two))"
      ],
      "execution_count": 12,
      "outputs": [
        {
          "output_type": "stream",
          "text": [
            "With a manual calculation, the error is 49.1\n",
            "Using scikit-learn, the error is 49.1\n"
          ],
          "name": "stdout"
        }
      ]
    },
    {
      "cell_type": "markdown",
      "metadata": {
        "id": "xXhuo2YGBY4B"
      },
      "source": [
        "If you run any additional models, you will try to beat an MSE of 49.1, which is the average squared error of using your model. Although the MSE is not as interpretable as the MAE, **it will help us select a model that has fewer 'large' errors**."
      ]
    },
    {
      "cell_type": "markdown",
      "metadata": {
        "id": "ajulJcTaBY4C"
      },
      "source": [
        "### Performance on data subsets\n",
        "In professional basketball, there are two conferences, the East and the West. Coaches and fans often only care about how teams in their own conference will do this year.\n",
        "\n",
        "You have been working on an NBA prediction model and would like to determine if the predictions were better for the East or West conference. You added a third array to your data called `labels`, which contains an \"E\" for the East teams, and a \"W\" for the West. `y_test` and `predictions` have again been loaded for your use."
      ]
    },
    {
      "cell_type": "code",
      "metadata": {
        "id": "oJa0V1x4BY4C"
      },
      "source": [
        "labels= np.array(['E', 'E', 'E', 'E', 'E', 'E', 'E', 'E', 'E', 'E', 'E', 'E', 'E','E', 'E',\n",
        "                  'W', 'W', 'W', 'W', 'W', 'W', 'W', 'W', 'W', 'W', 'W','W', 'W', 'W', 'W'])"
      ],
      "execution_count": 13,
      "outputs": []
    },
    {
      "cell_type": "code",
      "metadata": {
        "id": "SpbqCT2dBY4D",
        "colab": {
          "base_uri": "https://localhost:8080/"
        },
        "outputId": "471ce9e9-b09a-4a08-e7a7-f1cc21861a2c"
      },
      "source": [
        "from sklearn.metrics import mean_absolute_error as mae\n",
        "\n",
        "# Find the East conference teams\n",
        "east_teams = labels == 'E'\n",
        "\n",
        "# Create arrays for the true and predicted values\n",
        "true_east = y_test[east_teams]\n",
        "preds_east = y_pred[east_teams]\n",
        "\n",
        "west_teams = labels == 'W'\n",
        "true_west = y_test[west_teams]\n",
        "preds_west = y_pred[west_teams]\n",
        "\n",
        "# Print the accuracy metrics\n",
        "print('The MAE for East teams is {}'.format(mae(true_east, preds_east)))\n",
        "\n",
        "# Print the west accuracy\n",
        "print('The MAE for West teams is {}'.format(mae(true_west, preds_west)))"
      ],
      "execution_count": 14,
      "outputs": [
        {
          "output_type": "stream",
          "text": [
            "The MAE for East teams is 6.733333333333333\n",
            "The MAE for West teams is 5.066666666666666\n"
          ],
          "name": "stdout"
        }
      ]
    },
    {
      "cell_type": "markdown",
      "metadata": {
        "id": "beY5EnxxBY4E"
      },
      "source": [
        " It looks like the Western conference predictions were about two games better on average. Over the past few seasons, the Western teams have generally won the same number of games as the experts have predicted. Teams in the East are just not as predictable as those in the West."
      ]
    },
    {
      "cell_type": "markdown",
      "metadata": {
        "id": "RvleV3hcBY4E"
      },
      "source": [
        "## **Classification metrics**\n",
        "\n",
        "- **Types:**\n",
        "    - ***Precision***\n",
        "    - ***Recall*** (also called sensitivity)\n",
        "    - ***Accuracy***\n",
        "    - ***Specificity***\n",
        "    - ***F1-score*** and its variations\n",
        "\n",
        "- **Confusion Matrix**\n",
        "    - **True Positive:** Predict/Actual are both 1\n",
        "    - **True Negative:** Predict/Actual are both 0\n",
        "    - **False Positive:** Predicted 1, actual 0\n",
        "    - **False Negative:** Predicted 0, actual 1\n",
        "\n",
        "<p align='center'>\n",
        "\t<a href='#'><img src='https://miro.medium.com/max/712/1*Z54JgbS4DUwWSknhDCvNTQ.png'>\n",
        "    </a>\n",
        "</p>\n",
        "   "
      ]
    },
    {
      "cell_type": "markdown",
      "metadata": {
        "id": "hpacMkQVBY4F"
      },
      "source": [
        "### Confusion matrices\n",
        "Confusion matrices are a great way to start exploring your model's accuracy. They provide the values needed to calculate a wide range of metrics, including sensitivity, specificity, and the F1-score.\n",
        "\n",
        "You have built a classification model to predict if a person has a broken arm based on an X-ray image. On the testing set, you have the following confusion matrix:\n",
        "\n",
        "$$\n",
        "\\begin{array}{lll} \n",
        "& \\text { Prediction: } 0 & \\text { Prediction: } 1 \\\\\n",
        "\\hline \\text { Actual: } 0 & 324(\\mathrm{TN}) & 15(\\mathrm{FP}) \\\\\n",
        "\\text { Actual: } 1 & 123(\\mathrm{FN}) & 491(\\mathrm{TP})\n",
        "\\end{array}\n",
        "$$"
      ]
    },
    {
      "cell_type": "code",
      "metadata": {
        "id": "CR8LykNNBY4F",
        "colab": {
          "base_uri": "https://localhost:8080/"
        },
        "outputId": "ac68f05e-14a9-4bf9-d40d-365d008649e2"
      },
      "source": [
        "# Calculate and print the accuracy\n",
        "accuracy = (324 + 491) / (953)\n",
        "print(\"The overall accuracy is {0: 0.2f}\".format(accuracy))\n",
        "\n",
        "# Calculate and print the precision\n",
        "precision = (491) / (15 + 491)\n",
        "print(\"The precision is {0: 0.2f}\".format(precision))\n",
        "\n",
        "# Calculate and print the recall\n",
        "recall = (491) / (123 + 491)\n",
        "print(\"The recall is {0: 0.2f}\".format(recall))"
      ],
      "execution_count": 15,
      "outputs": [
        {
          "output_type": "stream",
          "text": [
            "The overall accuracy is  0.86\n",
            "The precision is  0.97\n",
            "The recall is  0.80\n"
          ],
          "name": "stdout"
        }
      ]
    },
    {
      "cell_type": "markdown",
      "metadata": {
        "id": "CAy3GwMWBY4G"
      },
      "source": [
        "In this case, a true positive is a picture of an actual broken arm that was also predicted to be broken. Doctors are okay with a few additional false positives (predicted broken, not actually broken), as long as you don't miss anyone who needs immediate medical attention."
      ]
    },
    {
      "cell_type": "markdown",
      "metadata": {
        "id": "xZEBI2YKBY4H"
      },
      "source": [
        "\n",
        "### Confusion matrices, again\n",
        "Creating a confusion matrix in Python is simple. The biggest challenge will be making sure you understand the orientation of the matrix. This exercise makes sure you understand the `sklearn` implementation of confusion matrices. Here, you have created a random forest model using the `tic_tac_toe` dataset `rfc` to predict outcomes of 0 (loss) or 1 (a win) for Player One.\n",
        "\n",
        "Note: If you read about confusion matrices on another website or for another programming language, the values might be reversed."
      ]
    },
    {
      "cell_type": "code",
      "metadata": {
        "id": "p3PiGJcKBY4I",
        "colab": {
          "base_uri": "https://localhost:8080/",
          "height": 297
        },
        "outputId": "0e806a68-b7fd-4392-b664-c81dd25873f7"
      },
      "source": [
        "import numpy as np\n",
        "import pandas as pd\n",
        "import matplotlib.pyplot as plt\n",
        "import seaborn as sns\n",
        "\n",
        "from sklearn.ensemble import RandomForestClassifier\n",
        "from sklearn.metrics import confusion_matrix\n",
        "\n",
        "tic_tac_toe = pd.read_csv('tic-tac-toe.csv')\n",
        "\n",
        "# Create dummy variables using pandas\n",
        "X = pd.get_dummies(tic_tac_toe.iloc[:, 0:9])\n",
        "y = tic_tac_toe.iloc[:, 9]\n",
        "y = tic_tac_toe['Class'].apply(lambda x: 1 if x == 'positive' else 0)\n",
        "\n",
        "# Create training and testing datasets, Use 10% for the test set\n",
        "X_train, X_test, y_train, y_test = train_test_split(X, y, test_size=0.1, random_state=1111)\n",
        "\n",
        "\n",
        "rfc = RandomForestClassifier(n_estimators=500, random_state=1111)\n",
        "rfc.fit(X_train, y_train)\n",
        "\n",
        "# Create predictions\n",
        "test_predictions = rfc.predict(X_test)\n",
        "\n",
        "# Create and print the confusion matrix\n",
        "cm = confusion_matrix(y_test, test_predictions)\n",
        "\n",
        "# Print the true positives (actual 1s that were predicted 1s)\n",
        "print('The number of true positives is: {}'.format(cm[1, 1]))\n",
        "\n",
        "print('Confusion Matrix')\n",
        "col  = ['Act Neg', 'Act Pos']\n",
        "index = ['Pred Neg', 'Pred Pos']\n",
        "cm = confusion_matrix(y_test, test_predictions)\n",
        "df_cm = pd.DataFrame(cm, col, index)\n",
        "sns.heatmap(df_cm, cmap='Blues', annot=True, fmt=\"d\")\n",
        "plt.show()"
      ],
      "execution_count": 16,
      "outputs": [
        {
          "output_type": "stream",
          "text": [
            "The number of true positives is: 66\n",
            "Confusion Matrix\n"
          ],
          "name": "stdout"
        },
        {
          "output_type": "display_data",
          "data": {
            "image/png": "[encoded data removed]",
            "text/plain": [
              "<Figure size 432x288 with 2 Axes>"
            ]
          },
          "metadata": {
            "tags": [],
            "needs_background": "light"
          }
        }
      ]
    },
    {
      "cell_type": "markdown",
      "metadata": {
        "id": "Dq8SpZ-7BY4K"
      },
      "source": [
        "Row 1, column 1 represents the number of actual 1s that were predicted 1s (the true positives). Always make sure you understand the orientation of the confusion matrix before you start using it!"
      ]
    },
    {
      "cell_type": "markdown",
      "metadata": {
        "id": "F9EWzhI1BY4L"
      },
      "source": [
        "### Precision vs. recall\n",
        "The accuracy metrics you use to evaluate your model should always be based on the specific application. For this example, let's assume you are a really sore loser when it comes to playing Tic-Tac-Toe, but only when you are certain that you are going to win.\n",
        "\n",
        "Choose the most appropriate accuracy metric, either precision or recall, to complete this example. But remember, if you think you are going to win, you better win!"
      ]
    },
    {
      "cell_type": "code",
      "metadata": {
        "id": "MEOFP2NhBY4L",
        "colab": {
          "base_uri": "https://localhost:8080/"
        },
        "outputId": "723e788a-069f-4942-8b0e-32f929a2afb9"
      },
      "source": [
        "from sklearn.metrics import precision_score, recall_score\n",
        "\n",
        "y_pred = rfc.predict(X_test)\n",
        "\n",
        "# Create precision score based on the metric\n",
        "p_score = precision_score(y_test, y_pred)\n",
        "r_score = recall_score(y_test, y_pred)\n",
        "\n",
        "# Print the final result\n",
        "print('The precision value is {0:.2f}, The recall value is {1:.2f}'.format(p_score, r_score))"
      ],
      "execution_count": 17,
      "outputs": [
        {
          "output_type": "stream",
          "text": [
            "The precision value is 0.97, The recall value is 1.00\n"
          ],
          "name": "stdout"
        }
      ]
    },
    {
      "cell_type": "markdown",
      "metadata": {
        "id": "NRY70mFM0Mep"
      },
      "source": [
        "**Precision** is the correct metric here. Sore-losers can't stand losing when they are certain they will win! For that reason, our model needs to be as precise as possible. With a precision of only $79\\%$, you may need to try some other modeling techniques to improve this score"
      ]
    },
    {
      "cell_type": "markdown",
      "metadata": {
        "id": "x6QTyKtiBY4M"
      },
      "source": [
        "## **The bias-variance tradeoff**\n",
        "\n",
        "<p align='center'>\n",
        "\t<a href='#'><img src='https://www.researchgate.net/publication/335604816/figure/fig2/AS:799391489220609@1567601191401/Bias-variance-trade-off-in-machine-learning-This-figure-illustrates-the-trade-off.png' height=500>\n",
        "    </a>\n",
        "</p>\n",
        "\n",
        "- **Variance**\n",
        "    - Following the training data too closely\n",
        "    - Fails to generalize to the test data\n",
        "    - Low training error but high test error\n",
        "    - Occurs when models are overfit and have high complexity\n",
        "    - High variance makes over-fitting\n",
        "    \n",
        "- **Bias**\n",
        "    - Failing to find the relationship between the data and the response\n",
        "    - High training/test error\n",
        "    - Occurs when models are underfit\n",
        "    - High bias makes under-fitting"
      ]
    },
    {
      "cell_type": "markdown",
      "metadata": {
        "id": "WCi2c8MEBY4M"
      },
      "source": [
        "### Error due to under/over-fitting\n",
        "The candy dataset is prime for overfitting. With only 85 observations, if you use 20% for the testing dataset, you are losing a lot of vital data that could be used for modeling. Imagine the scenario where most of the chocolate candies ended up in the training data and very few in the holdout sample. Our model might only see that chocolate is a vital factor, but fail to find that other attributes are also important. In this exercise, you'll explore how using too many features (columns) in a random forest model can lead to overfitting.\n",
        "\n"
      ]
    },
    {
      "cell_type": "code",
      "metadata": {
        "id": "K6GxvWf-BY4N"
      },
      "source": [
        "candy = pd.read_csv('candy-data.csv')\n",
        "\n",
        "X = candy.drop(['competitorname', 'winpercent'], axis=1)\n",
        "y = candy['winpercent']\n",
        "\n",
        "X_train, X_test, y_train, y_test = train_test_split(X, y, test_size=0.2, random_state=1111)"
      ],
      "execution_count": 18,
      "outputs": []
    },
    {
      "cell_type": "code",
      "metadata": {
        "id": "so0hYPwgBY4N",
        "colab": {
          "base_uri": "https://localhost:8080/"
        },
        "outputId": "eeaf0011-8211-42fa-9031-881aa7887cab"
      },
      "source": [
        "from sklearn.ensemble import RandomForestRegressor\n",
        "\n",
        "# Update the rfr model\n",
        "rfr = RandomForestRegressor(n_estimators=25, random_state=1111, max_features=2)\n",
        "\n",
        "rfr.fit(X_train, y_train)\n",
        "\n",
        "y_pred_train = rfr.predict(X_train)\n",
        "y_pred_test = rfr.predict(X_test)\n",
        "\n",
        "# Print the training and test accuracy\n",
        "print('The training error is {0:.2f}'.format(mae(y_train, y_pred_train)))\n",
        "print('The testing error is {0:.2f}'.format(mae(y_test, y_pred_test)))"
      ],
      "execution_count": 19,
      "outputs": [
        {
          "output_type": "stream",
          "text": [
            "The training error is 3.88\n",
            "The testing error is 9.15\n"
          ],
          "name": "stdout"
        }
      ]
    },
    {
      "cell_type": "code",
      "metadata": {
        "id": "A7qlri-CBY4O",
        "colab": {
          "base_uri": "https://localhost:8080/"
        },
        "outputId": "53e1508e-fa0b-4c9d-88c8-1d902acf0b02"
      },
      "source": [
        "# Update the rfr model\n",
        "rfr = RandomForestRegressor(n_estimators=25, random_state=1111, max_features=11)\n",
        "\n",
        "rfr.fit(X_train, y_train)\n",
        "\n",
        "y_pred_train = rfr.predict(X_train)\n",
        "y_pred_test =rfr.predict(X_test)\n",
        "\n",
        "# Print the training and test accuracy\n",
        "print('The training error is {0:.2f}'.format(mae(y_train, y_pred_train)))\n",
        "print('The testing error is {0:.2f}'.format(mae(y_test, y_pred_test)))"
      ],
      "execution_count": 20,
      "outputs": [
        {
          "output_type": "stream",
          "text": [
            "The training error is 3.57\n",
            "The testing error is 10.05\n"
          ],
          "name": "stdout"
        }
      ]
    },
    {
      "cell_type": "code",
      "metadata": {
        "id": "UyH7pqN1BY4O",
        "colab": {
          "base_uri": "https://localhost:8080/"
        },
        "outputId": "e97cd0be-6b88-42a2-c5ca-d857682c6db6"
      },
      "source": [
        "# Update the rfr model\n",
        "rfr = RandomForestRegressor(n_estimators=25, random_state=1111, max_features=4)\n",
        "\n",
        "rfr.fit(X_train, y_train)\n",
        "\n",
        "y_pred_train = rfr.predict(X_train)\n",
        "y_pred_test =rfr.predict(X_test)\n",
        "\n",
        "# Print the training and test accuracy\n",
        "print('The training error is {0:.2f}'.format(mae(y_train, y_pred_train)))\n",
        "print('The testing error is {0:.2f}'.format(mae(y_test, y_pred_test)))"
      ],
      "execution_count": 21,
      "outputs": [
        {
          "output_type": "stream",
          "text": [
            "The training error is 3.60\n",
            "The testing error is 8.79\n"
          ],
          "name": "stdout"
        }
      ]
    },
    {
      "cell_type": "markdown",
      "metadata": {
        "id": "W8F9cFnuBY4P"
      },
      "source": [
        "### Am I underfitting?\n",
        "You are creating a random forest model to predict if you will win a future game of Tic-Tac-Toe. Using the `tic_tac_toe` dataset, you have created training and testing datasets, `X_train`, `X_test`, `y_train`, and `y_test`.\n",
        "\n",
        "You have decided to create a bunch of random forest models with varying amounts of trees (1, 2, 3, 4, 5, 10, 20, and 50). The more trees you use, the longer your random forest model will take to run. However, if you don't use enough trees, you risk underfitting. You have created a for loop to test your model at the different number of trees."
      ]
    },
    {
      "cell_type": "code",
      "metadata": {
        "id": "WLZaPdi9BY4Q"
      },
      "source": [
        "# Create dummy variables using pandas\n",
        "X = pd.get_dummies(tic_tac_toe.iloc[:, 0:9])\n",
        "y = tic_tac_toe.iloc[:, 9]\n",
        "y = tic_tac_toe['Class'].apply(lambda x: 1 if x == 'positive' else 0)\n",
        "\n",
        "# Create training and testing datasets, Use 10% for the test set\n",
        "X_train, X_test, y_train, y_test = train_test_split(X, y, test_size=0.2, random_state=1111)"
      ],
      "execution_count": 22,
      "outputs": []
    },
    {
      "cell_type": "code",
      "metadata": {
        "id": "1c6fVrNXBY4R",
        "colab": {
          "base_uri": "https://localhost:8080/"
        },
        "outputId": "ce057af0-5e9c-4829-9944-842844dd9c1e"
      },
      "source": [
        "from sklearn.metrics import accuracy_score\n",
        "\n",
        "test_scores, train_scores = [], []\n",
        "for i in [1, 2, 3, 4, 5, 10, 20, 50]:\n",
        "    rfc = RandomForestClassifier(n_estimators=i, random_state=1111)\n",
        "    rfc.fit(X_train, y_train)\n",
        "    \n",
        "    # Create predictions for the X_train and X_test datasets\n",
        "    train_predictions = rfc.predict(X_train)\n",
        "    test_predictions = rfc.predict(X_test)\n",
        "    \n",
        "    # Append the accuracy score for the test and train predictions\n",
        "    train_scores.append(round(accuracy_score(y_train, train_predictions), 2))\n",
        "    test_scores.append(round(accuracy_score(y_test, test_predictions), 2))\n",
        "    \n",
        "# Print the train and test scores\n",
        "print(\"The training scores were: {}\".format(train_scores))\n",
        "print(\"The testing scores were: {}\".format(test_scores))"
      ],
      "execution_count": 23,
      "outputs": [
        {
          "output_type": "stream",
          "text": [
            "The training scores were: [0.94, 0.93, 0.98, 0.97, 0.99, 1.0, 1.0, 1.0]\n",
            "The testing scores were: [0.83, 0.79, 0.89, 0.91, 0.91, 0.93, 0.97, 0.98]\n"
          ],
          "name": "stdout"
        }
      ]
    },
    {
      "cell_type": "markdown",
      "metadata": {
        "id": "lJ1H8SS0BY4S"
      },
      "source": [
        ">Notice that with only one tree, both the train and test scores are low. As you add more trees, both errors improve. Even at 50 trees, this still might not be enough. Every time you use more trees, you achieve higher accuracy. At some point though, more trees increase training time, but do not decrease testing error."
      ]
    },
    {
      "cell_type": "code",
      "metadata": {
        "id": "7cFt1ILfBY4S",
        "colab": {
          "base_uri": "https://localhost:8080/",
          "height": 458
        },
        "outputId": "382e8832-23f6-49c1-fb14-18480f1793b3"
      },
      "source": [
        "x = [1, 2, 3, 4, 5, 10, 20, 50]\n",
        "tmp = pd.DataFrame({'x':x, 'training':train_scores, 'test':test_scores})\n",
        "tmp.set_index('x', inplace=True)\n",
        "tmp.plot(title='train/test score for n_estimators', figsize=(12,7))\n",
        "plt.show()"
      ],
      "execution_count": 24,
      "outputs": [
        {
          "output_type": "display_data",
          "data": {
            "image/png": "[encoded data removed]",
            "text/plain": [
              "<Figure size 864x504 with 1 Axes>"
            ]
          },
          "metadata": {
            "tags": [],
            "needs_background": "light"
          }
        }
      ]
    },
    {
      "cell_type": "markdown",
      "metadata": {
        "id": "FbLBupbN80Sa"
      },
      "source": [
        ""
      ]
    },
    {
      "cell_type": "markdown",
      "metadata": {
        "id": "_6_unCI980LR"
      },
      "source": [
        ""
      ]
    },
    {
      "cell_type": "markdown",
      "metadata": {
        "id": "vx0gK-Dq80BR"
      },
      "source": [
        ""
      ]
    },
    {
      "cell_type": "markdown",
      "metadata": {
        "id": "F3K0SmYk_2ff"
      },
      "source": [
        "## __Connect with Me__ \n",
        "--- \n",
        "[<img align=\"left\" alt=\"codeSTACKr | Twitter\" width=\"40px\" src=\"https://cdn.jsdelivr.net/npm/simple-icons@v3/icons/twitter.svg\" />][twitter] \n",
        "[<img align=\"left\" alt=\"codeSTACKr | LinkedIn\" width=\"40px\" src=\"https://cdn.jsdelivr.net/npm/simple-icons@v3/icons/linkedin.svg\" />][linkedin] \n",
        "[<img align=\"left\" alt=\"codeSTACKr.com\" width=\"40px\" src=\"https://raw.githubusercontent.com/iconic/open-iconic/master/svg/globe.svg\" />][StackExchange AI] \n",
        "[twitter]: https://twitter.com/F4izy \n",
        "--- \n",
        "[linkedin]: https://www.linkedin.com/in/mohd-faizy/ \n",
        "--- \n",
        "[StackExchange AI]: https://mohd-faizy.github.io\n",
        "--- \n",
        "--- \n",
        "--- \n",
        "---"
      ]
    }
  ]
}