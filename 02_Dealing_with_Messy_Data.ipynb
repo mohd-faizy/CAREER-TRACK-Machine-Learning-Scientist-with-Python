{
  "nbformat": 4,
  "nbformat_minor": 0,
  "metadata": {
    "colab": {
      "name": "02_Dealing-with-Messy-Data.ipynb",
      "provenance": [],
      "collapsed_sections": [],
      "toc_visible": true,
      "include_colab_link": true
    },
    "kernelspec": {
      "display_name": "Python 3",
      "language": "python",
      "name": "python3"
    },
    "language_info": {
      "codemirror_mode": {
        "name": "ipython",
        "version": 3
      },
      "file_extension": ".py",
      "mimetype": "text/x-python",
      "name": "python",
      "nbconvert_exporter": "python",
      "pygments_lexer": "ipython3",
      "version": "3.7.6"
    }
  },
  "cells": [
    {
      "cell_type": "markdown",
      "metadata": {
        "id": "view-in-github",
        "colab_type": "text"
      },
      "source": [
        "<a href=\"https://colab.research.google.com/github/mohd-faizy/CAREER-TRACK-Machine-Learning-Scientist-with-Python/blob/main/02_Dealing_with_Messy_Data.ipynb\" target=\"_parent\"><img src=\"https://colab.research.google.com/assets/colab-badge.svg\" alt=\"Open In Colab\"/></a>"
      ]
    },
    {
      "cell_type": "markdown",
      "metadata": {
        "id": "OFZDBr2bHlHL"
      },
      "source": [
        "--- \n",
        "<strong> \n",
        "    <h1 align='center'>Conforming to Statistical Assumptions</h1> \n",
        "</strong>\n",
        "\n",
        "---\n",
        "> In this chapter, you will focus on analyzing the underlying distribution of your data and whether it will impact your machine learning pipeline. You will learn how to deal with skewed data and situations where outliers may be negatively impacting your analysis.\n"
      ]
    },
    {
      "cell_type": "code",
      "metadata": {
        "colab": {
          "base_uri": "https://localhost:8080/"
        },
        "id": "hzRHP-_FHsiY",
        "outputId": "e5c1b392-b3ce-452e-9eac-efb48fa9c2d9"
      },
      "source": [
        "!git clone https://github.com/mohd-faizy/CAREER-TRACK-Machine-Learning-Scientist-with-Python.git"
      ],
      "execution_count": 1,
      "outputs": [
        {
          "output_type": "stream",
          "text": [
            "Cloning into 'CAREER-TRACK-Machine-Learning-Scientist-with-Python'...\n",
            "remote: Enumerating objects: 275, done.\u001b[K\n",
            "remote: Counting objects: 100% (275/275), done.\u001b[K\n",
            "remote: Compressing objects: 100% (248/248), done.\u001b[K\n",
            "remote: Total 604 (delta 53), reused 240 (delta 25), pack-reused 329\u001b[K\n",
            "Receiving objects: 100% (604/604), 198.75 MiB | 32.55 MiB/s, done.\n",
            "Resolving deltas: 100% (179/179), done.\n",
            "Checking out files: 100% (296/296), done.\n"
          ],
          "name": "stdout"
        }
      ]
    },
    {
      "cell_type": "code",
      "metadata": {
        "id": "PmAXLIF_HvNW"
      },
      "source": [
        "import pandas as pd\n",
        "import numpy as np\n",
        "import matplotlib.pyplot as plt\n",
        "import seaborn as sns\n",
        "import os\n",
        "\n",
        "plt.style.use('fivethirtyeight')\n",
        "#plt.style.use('ggplot')\n",
        "#sns.set_theme()\n",
        "\n",
        "%matplotlib inline"
      ],
      "execution_count": 2,
      "outputs": []
    },
    {
      "cell_type": "code",
      "metadata": {
        "colab": {
          "base_uri": "https://localhost:8080/"
        },
        "id": "qWG3z1CoIAS7",
        "outputId": "c9e9890a-b89f-472e-d85c-8ea6dc87ce56"
      },
      "source": [
        "os.chdir('/content/CAREER-TRACK-Machine-Learning-Scientist-with-Python/09_Feature_Engineering_for_Machine_Learning_in_Python/_dataset')\n",
        "cwd = os.getcwd()\n",
        "print('Curent working directory is ', cwd)"
      ],
      "execution_count": 3,
      "outputs": [
        {
          "output_type": "stream",
          "text": [
            "Curent working directory is  /content/CAREER-TRACK-Machine-Learning-Scientist-with-Python/09_Feature_Engineering_for_Machine_Learning_in_Python/_dataset\n"
          ],
          "name": "stdout"
        }
      ]
    },
    {
      "cell_type": "code",
      "metadata": {
        "colab": {
          "base_uri": "https://localhost:8080/"
        },
        "id": "Ikl7gsIrIBLV",
        "outputId": "63960a14-29ff-4f44-8f53-2eb03110bdd7"
      },
      "source": [
        "ls"
      ],
      "execution_count": 4,
      "outputs": [
        {
          "output_type": "stream",
          "text": [
            "Combined_DS_v10.csv  inaugural_speeches.csv\n"
          ],
          "name": "stdout"
        }
      ]
    },
    {
      "cell_type": "markdown",
      "metadata": {
        "id": "lE4qzyZCbJyM"
      },
      "source": [
        "## Why do missing values exist?\n",
        "- *How gaps in data occur*\n",
        "    - Data not being collected properly\n",
        "    - Collection and management errors\n",
        "    - Data intentionally being omitted\n",
        "    - Could be created due to transformations of the data\n",
        "    \n",
        "- *Why we care?*\n",
        "    - Some models cannot work with missing data (Nulls/NaN)\n",
        "    - Missing data may be a sign a wider data issue\n",
        "    - Missing data can be a useful feature"
      ]
    },
    {
      "cell_type": "markdown",
      "metadata": {
        "id": "3gvdWsMgbJyN"
      },
      "source": [
        "### *How sparse is my data?*\n",
        "\n",
        "Most data sets contain missing values, often represented as `NaN` (Not a Number). If you are working with Pandas you can easily check how many missing values exist in each column.\n",
        "\n",
        "Let's find out how many of the developers taking the survey chose to enter their age (found in the `Age` column of `so_survey_df`) and their gender (`Gender` column of `so_survey_df`)."
      ]
    },
    {
      "cell_type": "code",
      "metadata": {
        "colab": {
          "base_uri": "https://localhost:8080/",
          "height": 417
        },
        "id": "re8AielkbJyO",
        "outputId": "1209a028-8acd-4dd7-b489-4e4b9e430a80"
      },
      "source": [
        "so_survey_df = pd.read_csv('Combined_DS_v10.csv')\n",
        "so_survey_df.head()"
      ],
      "execution_count": 5,
      "outputs": [
        {
          "output_type": "execute_result",
          "data": {
            "text/html": [
              "<div>\n",
              "<style scoped>\n",
              "    .dataframe tbody tr th:only-of-type {\n",
              "        vertical-align: middle;\n",
              "    }\n",
              "\n",
              "    .dataframe tbody tr th {\n",
              "        vertical-align: top;\n",
              "    }\n",
              "\n",
              "    .dataframe thead th {\n",
              "        text-align: right;\n",
              "    }\n",
              "</style>\n",
              "<table border=\"1\" class=\"dataframe\">\n",
              "  <thead>\n",
              "    <tr style=\"text-align: right;\">\n",
              "      <th></th>\n",
              "      <th>SurveyDate</th>\n",
              "      <th>FormalEducation</th>\n",
              "      <th>ConvertedSalary</th>\n",
              "      <th>Hobby</th>\n",
              "      <th>Country</th>\n",
              "      <th>StackOverflowJobsRecommend</th>\n",
              "      <th>VersionControl</th>\n",
              "      <th>Age</th>\n",
              "      <th>Years Experience</th>\n",
              "      <th>Gender</th>\n",
              "      <th>RawSalary</th>\n",
              "    </tr>\n",
              "  </thead>\n",
              "  <tbody>\n",
              "    <tr>\n",
              "      <th>0</th>\n",
              "      <td>2/28/18 20:20</td>\n",
              "      <td>Bachelor's degree (BA. BS. B.Eng.. etc.)</td>\n",
              "      <td>NaN</td>\n",
              "      <td>Yes</td>\n",
              "      <td>South Africa</td>\n",
              "      <td>NaN</td>\n",
              "      <td>Git</td>\n",
              "      <td>21</td>\n",
              "      <td>13</td>\n",
              "      <td>Male</td>\n",
              "      <td>NaN</td>\n",
              "    </tr>\n",
              "    <tr>\n",
              "      <th>1</th>\n",
              "      <td>6/28/18 13:26</td>\n",
              "      <td>Bachelor's degree (BA. BS. B.Eng.. etc.)</td>\n",
              "      <td>70841.0</td>\n",
              "      <td>Yes</td>\n",
              "      <td>Sweeden</td>\n",
              "      <td>7.0</td>\n",
              "      <td>Git;Subversion</td>\n",
              "      <td>38</td>\n",
              "      <td>9</td>\n",
              "      <td>Male</td>\n",
              "      <td>70,841.00</td>\n",
              "    </tr>\n",
              "    <tr>\n",
              "      <th>2</th>\n",
              "      <td>6/6/18 3:37</td>\n",
              "      <td>Bachelor's degree (BA. BS. B.Eng.. etc.)</td>\n",
              "      <td>NaN</td>\n",
              "      <td>No</td>\n",
              "      <td>Sweeden</td>\n",
              "      <td>8.0</td>\n",
              "      <td>Git</td>\n",
              "      <td>45</td>\n",
              "      <td>11</td>\n",
              "      <td>NaN</td>\n",
              "      <td>NaN</td>\n",
              "    </tr>\n",
              "    <tr>\n",
              "      <th>3</th>\n",
              "      <td>5/9/18 1:06</td>\n",
              "      <td>Some college/university study without earning ...</td>\n",
              "      <td>21426.0</td>\n",
              "      <td>Yes</td>\n",
              "      <td>Sweeden</td>\n",
              "      <td>NaN</td>\n",
              "      <td>Zip file back-ups</td>\n",
              "      <td>46</td>\n",
              "      <td>12</td>\n",
              "      <td>Male</td>\n",
              "      <td>21,426.00</td>\n",
              "    </tr>\n",
              "    <tr>\n",
              "      <th>4</th>\n",
              "      <td>4/12/18 22:41</td>\n",
              "      <td>Bachelor's degree (BA. BS. B.Eng.. etc.)</td>\n",
              "      <td>41671.0</td>\n",
              "      <td>Yes</td>\n",
              "      <td>UK</td>\n",
              "      <td>8.0</td>\n",
              "      <td>Git</td>\n",
              "      <td>39</td>\n",
              "      <td>7</td>\n",
              "      <td>Male</td>\n",
              "      <td>£41,671.00</td>\n",
              "    </tr>\n",
              "  </tbody>\n",
              "</table>\n",
              "</div>"
            ],
            "text/plain": [
              "      SurveyDate  ...   RawSalary\n",
              "0  2/28/18 20:20  ...         NaN\n",
              "1  6/28/18 13:26  ...   70,841.00\n",
              "2    6/6/18 3:37  ...         NaN\n",
              "3    5/9/18 1:06  ...   21,426.00\n",
              "4  4/12/18 22:41  ...  £41,671.00\n",
              "\n",
              "[5 rows x 11 columns]"
            ]
          },
          "metadata": {
            "tags": []
          },
          "execution_count": 5
        }
      ]
    },
    {
      "cell_type": "code",
      "metadata": {
        "colab": {
          "base_uri": "https://localhost:8080/"
        },
        "id": "1TuFiywEjQ72",
        "outputId": "77882f8e-a316-47e5-a637-18e34c29b06a"
      },
      "source": [
        "so_survey_df.info()"
      ],
      "execution_count": 6,
      "outputs": [
        {
          "output_type": "stream",
          "text": [
            "<class 'pandas.core.frame.DataFrame'>\n",
            "RangeIndex: 999 entries, 0 to 998\n",
            "Data columns (total 11 columns):\n",
            " #   Column                      Non-Null Count  Dtype  \n",
            "---  ------                      --------------  -----  \n",
            " 0   SurveyDate                  999 non-null    object \n",
            " 1   FormalEducation             999 non-null    object \n",
            " 2   ConvertedSalary             665 non-null    float64\n",
            " 3   Hobby                       999 non-null    object \n",
            " 4   Country                     999 non-null    object \n",
            " 5   StackOverflowJobsRecommend  487 non-null    float64\n",
            " 6   VersionControl              999 non-null    object \n",
            " 7   Age                         999 non-null    int64  \n",
            " 8   Years Experience            999 non-null    int64  \n",
            " 9   Gender                      693 non-null    object \n",
            " 10  RawSalary                   665 non-null    object \n",
            "dtypes: float64(2), int64(2), object(7)\n",
            "memory usage: 86.0+ KB\n"
          ],
          "name": "stdout"
        }
      ]
    },
    {
      "cell_type": "code",
      "metadata": {
        "colab": {
          "base_uri": "https://localhost:8080/"
        },
        "id": "6rrGoSkJbJyQ",
        "outputId": "615a97fa-c296-4464-9831-93a277e3275b"
      },
      "source": [
        "# Subset the DataFrame\n",
        "sub_df = so_survey_df[['Age', 'Gender']]\n",
        "\n",
        "# Print the number of non-missing values\n",
        "print(sub_df.notnull().sum())"
      ],
      "execution_count": 7,
      "outputs": [
        {
          "output_type": "stream",
          "text": [
            "Age       999\n",
            "Gender    693\n",
            "dtype: int64\n"
          ],
          "name": "stdout"
        }
      ]
    },
    {
      "cell_type": "markdown",
      "metadata": {
        "id": "qkYNSrFwbJyR"
      },
      "source": [
        "### *Finding the missing values*\n",
        "While having a summary of how much of your data is missing can be useful, often you will need to find the exact locations of these missing values. Using the same subset of the StackOverflow data from the last exercise (`sub_df`), you will show how a value can be flagged as missing."
      ]
    },
    {
      "cell_type": "code",
      "metadata": {
        "colab": {
          "base_uri": "https://localhost:8080/",
          "height": 347
        },
        "id": "s_qVmbCGbJyR",
        "outputId": "43c7d97e-b077-4d3c-ce43-fc8d7f3e1a9d"
      },
      "source": [
        "# Print the top 10 entries of the DataFrame\n",
        "sub_df.head(10)"
      ],
      "execution_count": 8,
      "outputs": [
        {
          "output_type": "execute_result",
          "data": {
            "text/html": [
              "<div>\n",
              "<style scoped>\n",
              "    .dataframe tbody tr th:only-of-type {\n",
              "        vertical-align: middle;\n",
              "    }\n",
              "\n",
              "    .dataframe tbody tr th {\n",
              "        vertical-align: top;\n",
              "    }\n",
              "\n",
              "    .dataframe thead th {\n",
              "        text-align: right;\n",
              "    }\n",
              "</style>\n",
              "<table border=\"1\" class=\"dataframe\">\n",
              "  <thead>\n",
              "    <tr style=\"text-align: right;\">\n",
              "      <th></th>\n",
              "      <th>Age</th>\n",
              "      <th>Gender</th>\n",
              "    </tr>\n",
              "  </thead>\n",
              "  <tbody>\n",
              "    <tr>\n",
              "      <th>0</th>\n",
              "      <td>21</td>\n",
              "      <td>Male</td>\n",
              "    </tr>\n",
              "    <tr>\n",
              "      <th>1</th>\n",
              "      <td>38</td>\n",
              "      <td>Male</td>\n",
              "    </tr>\n",
              "    <tr>\n",
              "      <th>2</th>\n",
              "      <td>45</td>\n",
              "      <td>NaN</td>\n",
              "    </tr>\n",
              "    <tr>\n",
              "      <th>3</th>\n",
              "      <td>46</td>\n",
              "      <td>Male</td>\n",
              "    </tr>\n",
              "    <tr>\n",
              "      <th>4</th>\n",
              "      <td>39</td>\n",
              "      <td>Male</td>\n",
              "    </tr>\n",
              "    <tr>\n",
              "      <th>5</th>\n",
              "      <td>39</td>\n",
              "      <td>Male</td>\n",
              "    </tr>\n",
              "    <tr>\n",
              "      <th>6</th>\n",
              "      <td>34</td>\n",
              "      <td>Male</td>\n",
              "    </tr>\n",
              "    <tr>\n",
              "      <th>7</th>\n",
              "      <td>24</td>\n",
              "      <td>Female</td>\n",
              "    </tr>\n",
              "    <tr>\n",
              "      <th>8</th>\n",
              "      <td>23</td>\n",
              "      <td>Male</td>\n",
              "    </tr>\n",
              "    <tr>\n",
              "      <th>9</th>\n",
              "      <td>36</td>\n",
              "      <td>NaN</td>\n",
              "    </tr>\n",
              "  </tbody>\n",
              "</table>\n",
              "</div>"
            ],
            "text/plain": [
              "   Age  Gender\n",
              "0   21    Male\n",
              "1   38    Male\n",
              "2   45     NaN\n",
              "3   46    Male\n",
              "4   39    Male\n",
              "5   39    Male\n",
              "6   34    Male\n",
              "7   24  Female\n",
              "8   23    Male\n",
              "9   36     NaN"
            ]
          },
          "metadata": {
            "tags": []
          },
          "execution_count": 8
        }
      ]
    },
    {
      "cell_type": "code",
      "metadata": {
        "colab": {
          "base_uri": "https://localhost:8080/",
          "height": 347
        },
        "id": "drc5hDEqbJyS",
        "outputId": "56707af3-6dce-4f56-db2c-ba7c9072ecf5"
      },
      "source": [
        "# Print the locations of the missing values\n",
        "sub_df.head(10).isnull()"
      ],
      "execution_count": 9,
      "outputs": [
        {
          "output_type": "execute_result",
          "data": {
            "text/html": [
              "<div>\n",
              "<style scoped>\n",
              "    .dataframe tbody tr th:only-of-type {\n",
              "        vertical-align: middle;\n",
              "    }\n",
              "\n",
              "    .dataframe tbody tr th {\n",
              "        vertical-align: top;\n",
              "    }\n",
              "\n",
              "    .dataframe thead th {\n",
              "        text-align: right;\n",
              "    }\n",
              "</style>\n",
              "<table border=\"1\" class=\"dataframe\">\n",
              "  <thead>\n",
              "    <tr style=\"text-align: right;\">\n",
              "      <th></th>\n",
              "      <th>Age</th>\n",
              "      <th>Gender</th>\n",
              "    </tr>\n",
              "  </thead>\n",
              "  <tbody>\n",
              "    <tr>\n",
              "      <th>0</th>\n",
              "      <td>False</td>\n",
              "      <td>False</td>\n",
              "    </tr>\n",
              "    <tr>\n",
              "      <th>1</th>\n",
              "      <td>False</td>\n",
              "      <td>False</td>\n",
              "    </tr>\n",
              "    <tr>\n",
              "      <th>2</th>\n",
              "      <td>False</td>\n",
              "      <td>True</td>\n",
              "    </tr>\n",
              "    <tr>\n",
              "      <th>3</th>\n",
              "      <td>False</td>\n",
              "      <td>False</td>\n",
              "    </tr>\n",
              "    <tr>\n",
              "      <th>4</th>\n",
              "      <td>False</td>\n",
              "      <td>False</td>\n",
              "    </tr>\n",
              "    <tr>\n",
              "      <th>5</th>\n",
              "      <td>False</td>\n",
              "      <td>False</td>\n",
              "    </tr>\n",
              "    <tr>\n",
              "      <th>6</th>\n",
              "      <td>False</td>\n",
              "      <td>False</td>\n",
              "    </tr>\n",
              "    <tr>\n",
              "      <th>7</th>\n",
              "      <td>False</td>\n",
              "      <td>False</td>\n",
              "    </tr>\n",
              "    <tr>\n",
              "      <th>8</th>\n",
              "      <td>False</td>\n",
              "      <td>False</td>\n",
              "    </tr>\n",
              "    <tr>\n",
              "      <th>9</th>\n",
              "      <td>False</td>\n",
              "      <td>True</td>\n",
              "    </tr>\n",
              "  </tbody>\n",
              "</table>\n",
              "</div>"
            ],
            "text/plain": [
              "     Age  Gender\n",
              "0  False   False\n",
              "1  False   False\n",
              "2  False    True\n",
              "3  False   False\n",
              "4  False   False\n",
              "5  False   False\n",
              "6  False   False\n",
              "7  False   False\n",
              "8  False   False\n",
              "9  False    True"
            ]
          },
          "metadata": {
            "tags": []
          },
          "execution_count": 9
        }
      ]
    },
    {
      "cell_type": "code",
      "metadata": {
        "colab": {
          "base_uri": "https://localhost:8080/",
          "height": 347
        },
        "id": "IP1scC5WbJyT",
        "outputId": "bfe0b31e-3f94-4c6e-f23c-b7c7aaf7e378"
      },
      "source": [
        "# Print the locations of the missing values\n",
        "sub_df.head(10).notnull()"
      ],
      "execution_count": 10,
      "outputs": [
        {
          "output_type": "execute_result",
          "data": {
            "text/html": [
              "<div>\n",
              "<style scoped>\n",
              "    .dataframe tbody tr th:only-of-type {\n",
              "        vertical-align: middle;\n",
              "    }\n",
              "\n",
              "    .dataframe tbody tr th {\n",
              "        vertical-align: top;\n",
              "    }\n",
              "\n",
              "    .dataframe thead th {\n",
              "        text-align: right;\n",
              "    }\n",
              "</style>\n",
              "<table border=\"1\" class=\"dataframe\">\n",
              "  <thead>\n",
              "    <tr style=\"text-align: right;\">\n",
              "      <th></th>\n",
              "      <th>Age</th>\n",
              "      <th>Gender</th>\n",
              "    </tr>\n",
              "  </thead>\n",
              "  <tbody>\n",
              "    <tr>\n",
              "      <th>0</th>\n",
              "      <td>True</td>\n",
              "      <td>True</td>\n",
              "    </tr>\n",
              "    <tr>\n",
              "      <th>1</th>\n",
              "      <td>True</td>\n",
              "      <td>True</td>\n",
              "    </tr>\n",
              "    <tr>\n",
              "      <th>2</th>\n",
              "      <td>True</td>\n",
              "      <td>False</td>\n",
              "    </tr>\n",
              "    <tr>\n",
              "      <th>3</th>\n",
              "      <td>True</td>\n",
              "      <td>True</td>\n",
              "    </tr>\n",
              "    <tr>\n",
              "      <th>4</th>\n",
              "      <td>True</td>\n",
              "      <td>True</td>\n",
              "    </tr>\n",
              "    <tr>\n",
              "      <th>5</th>\n",
              "      <td>True</td>\n",
              "      <td>True</td>\n",
              "    </tr>\n",
              "    <tr>\n",
              "      <th>6</th>\n",
              "      <td>True</td>\n",
              "      <td>True</td>\n",
              "    </tr>\n",
              "    <tr>\n",
              "      <th>7</th>\n",
              "      <td>True</td>\n",
              "      <td>True</td>\n",
              "    </tr>\n",
              "    <tr>\n",
              "      <th>8</th>\n",
              "      <td>True</td>\n",
              "      <td>True</td>\n",
              "    </tr>\n",
              "    <tr>\n",
              "      <th>9</th>\n",
              "      <td>True</td>\n",
              "      <td>False</td>\n",
              "    </tr>\n",
              "  </tbody>\n",
              "</table>\n",
              "</div>"
            ],
            "text/plain": [
              "    Age  Gender\n",
              "0  True    True\n",
              "1  True    True\n",
              "2  True   False\n",
              "3  True    True\n",
              "4  True    True\n",
              "5  True    True\n",
              "6  True    True\n",
              "7  True    True\n",
              "8  True    True\n",
              "9  True   False"
            ]
          },
          "metadata": {
            "tags": []
          },
          "execution_count": 10
        }
      ]
    },
    {
      "cell_type": "markdown",
      "metadata": {
        "id": "OfcgjJrLbJyU"
      },
      "source": [
        "## 1. Dealing with missing values ($I^{st}$)\n",
        "- Issues with deletion\n",
        "    - It deletes vaild data points\n",
        "    - Relies on randomness\n",
        "    - Reduces information"
      ]
    },
    {
      "cell_type": "markdown",
      "metadata": {
        "id": "Oa1Q8ITcbJyV"
      },
      "source": [
        "### *Listwise deletion*\n",
        "\n",
        "The simplest way to deal with missing values in your dataset when they are occurring entirely at random is to remove those rows, also called **'listwise deletion'**.\n",
        "\n",
        "Depending on the use case, you will sometimes want to remove all missing values in your data while other times you may want to only remove a particular column if too many values are missing in that column."
      ]
    },
    {
      "cell_type": "code",
      "metadata": {
        "colab": {
          "base_uri": "https://localhost:8080/"
        },
        "id": "qDRzgWEDbJyV",
        "outputId": "12e82682-d1cb-4695-d77e-23a84fa293c0"
      },
      "source": [
        "# Print the number of rows and columns\n",
        "print(so_survey_df.shape)"
      ],
      "execution_count": 11,
      "outputs": [
        {
          "output_type": "stream",
          "text": [
            "(999, 11)\n"
          ],
          "name": "stdout"
        }
      ]
    },
    {
      "cell_type": "markdown",
      "metadata": {
        "id": "lGOU_cI9rxxl"
      },
      "source": [
        "#### ***Dropping all incomplete rows***\n",
        "\n",
        "- `how{‘any’, ‘all’}`, __default__ `‘any’`\n",
        "\n",
        "Determine if row or column is removed from DataFrame, when we have at least one NA or all NA.\n",
        "\n",
        "- `‘any’` : *If any NA values are present, drop that row or column.*\n",
        "\n",
        "- `‘all’` : *If all values are NA, drop that row or column.*\n",
        "\n",
        "- `df.dropna(thresh=2)`: *if we want to Keep only the rows with at least 2 non-NA values.*\n",
        "\n",
        "\n",
        "- `df.dropna(subset=['Gender', 'RawSalary'])`: *Defining in which columns to look for missing values.*\n"
      ]
    },
    {
      "cell_type": "code",
      "metadata": {
        "colab": {
          "base_uri": "https://localhost:8080/"
        },
        "id": "LM-CvhoXqU2N",
        "outputId": "be2cc729-89d5-4627-8734-07abed053348"
      },
      "source": [
        "# Drop all rows with at least one missing values\n",
        "so_survey_df.dropna(how='any').shape"
      ],
      "execution_count": 12,
      "outputs": [
        {
          "output_type": "execute_result",
          "data": {
            "text/plain": [
              "(264, 11)"
            ]
          },
          "metadata": {
            "tags": []
          },
          "execution_count": 12
        }
      ]
    },
    {
      "cell_type": "code",
      "metadata": {
        "colab": {
          "base_uri": "https://localhost:8080/"
        },
        "id": "CTL5DoNZbJyW",
        "outputId": "0da65c08-85e1-4ce9-a279-d8489e6b19bd"
      },
      "source": [
        "# Create a new DataFrame dropping all incomplete rows\n",
        "no_missing_values_rows = so_survey_df.dropna()\n",
        "\n",
        "# Print the shape of the new DataFrame\n",
        "print(no_missing_values_rows.shape)"
      ],
      "execution_count": 13,
      "outputs": [
        {
          "output_type": "stream",
          "text": [
            "(264, 11)\n"
          ],
          "name": "stdout"
        }
      ]
    },
    {
      "cell_type": "markdown",
      "metadata": {
        "id": "xIsQd2tvrRu9"
      },
      "source": [
        "#### ***Dropping all columns*** with incomplete rows"
      ]
    },
    {
      "cell_type": "code",
      "metadata": {
        "colab": {
          "base_uri": "https://localhost:8080/"
        },
        "id": "hOJEYr7HbJyX",
        "outputId": "12baa932-8f63-4af8-dd2a-fdd971925553"
      },
      "source": [
        "# Create a new DataFrame dropping all columns with incomplete rows\n",
        "no_missing_values_cols = so_survey_df.dropna(axis=1)\n",
        "\n",
        "# Print the shape fo the new DataFrame\n",
        "print(no_missing_values_cols.shape)"
      ],
      "execution_count": 14,
      "outputs": [
        {
          "output_type": "stream",
          "text": [
            "(999, 7)\n"
          ],
          "name": "stdout"
        }
      ]
    },
    {
      "cell_type": "markdown",
      "metadata": {
        "id": "bHsax9nRrW09"
      },
      "source": [
        "#### ***Droping all rows*** where `Gender` is missing"
      ]
    },
    {
      "cell_type": "code",
      "metadata": {
        "colab": {
          "base_uri": "https://localhost:8080/"
        },
        "id": "McsbeCFQbJyY",
        "outputId": "3f5cb3ec-8fc6-4d0c-c67b-079d021b2e2b"
      },
      "source": [
        "# Drop all rows where Gender is missing\n",
        "no_gender = so_survey_df.dropna(subset=['Gender'])\n",
        "\n",
        "# Print the shape of the new DataFrame\n",
        "print(no_gender.shape)"
      ],
      "execution_count": 15,
      "outputs": [
        {
          "output_type": "stream",
          "text": [
            "(693, 11)\n"
          ],
          "name": "stdout"
        }
      ]
    },
    {
      "cell_type": "markdown",
      "metadata": {
        "id": "UuGM7-oc0d4Z"
      },
      "source": [
        "> ***As you can see dropping all rows that contain any missing values may greatly reduce the size of your dataset. So you need to think carefully and consider several trade-offs when deleting missing values.***"
      ]
    },
    {
      "cell_type": "markdown",
      "metadata": {
        "id": "4toEfTl1bJyZ"
      },
      "source": [
        "### *Replacing missing values with constants*\n",
        "\n",
        "While removing missing data entirely maybe a correct approach in many situations, this may result in a lot of information being omitted from your models.\n",
        "\n",
        "You may find categorical columns where the missing value is a valid piece of information in itself, such as someone refusing to answer a question in a survey. In these cases, you can fill all missing values with a new category entirely, for example **'No response given'**."
      ]
    },
    {
      "cell_type": "code",
      "metadata": {
        "colab": {
          "base_uri": "https://localhost:8080/"
        },
        "id": "TXc56gU2bJyZ",
        "outputId": "45b00a88-f572-4a4f-af1e-6f2cadc43253"
      },
      "source": [
        "# Print the count of occurrence\n",
        "print(so_survey_df['Gender'].value_counts())"
      ],
      "execution_count": 16,
      "outputs": [
        {
          "output_type": "stream",
          "text": [
            "Male                                                                         632\n",
            "Female                                                                        53\n",
            "Transgender                                                                    2\n",
            "Female;Male                                                                    2\n",
            "Female;Transgender                                                             1\n",
            "Female;Male;Transgender;Non-binary. genderqueer. or gender non-conforming      1\n",
            "Non-binary. genderqueer. or gender non-conforming                              1\n",
            "Male;Non-binary. genderqueer. or gender non-conforming                         1\n",
            "Name: Gender, dtype: int64\n"
          ],
          "name": "stdout"
        }
      ]
    },
    {
      "cell_type": "code",
      "metadata": {
        "colab": {
          "base_uri": "https://localhost:8080/"
        },
        "id": "8Hc78I7YbJya",
        "outputId": "ef55abcb-b82f-45bb-e203-e83a00191866"
      },
      "source": [
        "# Replace missing values\n",
        "so_survey_df['Gender'].fillna('Not Given', inplace=True)\n",
        "\n",
        "# Print the count of each value\n",
        "print(so_survey_df['Gender'].value_counts())\n",
        "print()\n",
        "print(so_survey_df['Gender'].head())"
      ],
      "execution_count": 17,
      "outputs": [
        {
          "output_type": "stream",
          "text": [
            "Male                                                                         632\n",
            "Not Given                                                                    306\n",
            "Female                                                                        53\n",
            "Transgender                                                                    2\n",
            "Female;Male                                                                    2\n",
            "Female;Transgender                                                             1\n",
            "Female;Male;Transgender;Non-binary. genderqueer. or gender non-conforming      1\n",
            "Non-binary. genderqueer. or gender non-conforming                              1\n",
            "Male;Non-binary. genderqueer. or gender non-conforming                         1\n",
            "Name: Gender, dtype: int64\n",
            "\n",
            "0         Male\n",
            "1         Male\n",
            "2    Not Given\n",
            "3         Male\n",
            "4         Male\n",
            "Name: Gender, dtype: object\n"
          ],
          "name": "stdout"
        }
      ]
    },
    {
      "cell_type": "markdown",
      "metadata": {
        "id": "0bj27wt0E8-f"
      },
      "source": [
        "__Note__ - *Deleting missing values*\n",
        "\n",
        ">One of the most common issues with removing all rows with missing values is if you were building a predictive model. If you were to remove all cases that had missing values when training your model, you would quickly run into problems when you received missing values in your test set, where you do not have the option of just not predicting these rows."
      ]
    },
    {
      "cell_type": "markdown",
      "metadata": {
        "id": "-kvssxl3bJya"
      },
      "source": [
        "## 2. Dealing with missing values ($II^{nd}$)\n",
        "\n",
        "- Deleting missing values\n",
        "    - Can't delete rows with missing values in the test set\n",
        "- What else can you do?\n",
        "\n",
        "    - ***Categorical columns***: Replace missing values with the most common occurring value or with a string that flags missing values such as **'None'**\n",
        "    - ***Numerical columns***: Replace missing values with a suitable value\n",
        "\n",
        "\n",
        "However, for numeric columns, you may want to replace missing values with a more suitable value. So what is a suitable value?\n",
        "\n",
        ">In cases like this we often turn to the **measures of central tendency**, which are the central or typical value for a distribution. The most commonly used values are the\n",
        "- ***Mean*** \n",
        "- and the ***Median***\n",
        "\n",
        "One caveat that you must keep in mind when using these methods is that it ***can lead to biased estimates*** of the **variances** and **covariances** of the features.\n",
        "\n",
        "Similarly, the __standard error__ and __test statistics__ can be _incorrectly_ estimated so if these metrics are needed they should be calculated before the missing values have been filled.\n",
        "\n",
        "```python\n",
        "print(df['ConvertedSalary'].mean())\n",
        "print(df['ConvertedSalary'].median())\n",
        "```\n",
        "\n",
        "__Fill the missing values__\n",
        "\n",
        "```python\n",
        "df['ConvertedSalary'] = df['ConvertedSalary'].fillna(df['ConvertedSalary'].mean()) \n",
        "df['ConvertedSalary'] = df['ConvertedSalary'].astype('int64')\n",
        "```\n",
        "Since we filled in the missing values with the `mean`, we may end up with too many _decimal places_. You can get rid of all the _decimal values_ by changing the data type to integer using the `astype()` method like so.\n",
        "\n",
        "__Rounding values__\n",
        "```python\n",
        "df['ConvertedSalary'] = df['ConvertedSalary'].fillna(round(df['ConvertedSalary'].mean()))\n",
        "```"
      ]
    },
    {
      "cell_type": "markdown",
      "metadata": {
        "id": "dKC95zIlbJyb"
      },
      "source": [
        "### *Filling continuous missing values*\n",
        "\n",
        "In the last lesson, you dealt with different methods of removing data missing values and filling in missing values with a fixed string. These approaches are valid in many cases, particularly when dealing with categorical columns but have limited use when working with continuous values. In these cases, it may be most valid to fill the missing values in the column with a value calculated from the entries present in the column.\n",
        "\n"
      ]
    },
    {
      "cell_type": "code",
      "metadata": {
        "colab": {
          "base_uri": "https://localhost:8080/"
        },
        "id": "64Hqi1xfbJyc",
        "outputId": "1e9e9361-e06f-4413-cb64-58b35c488060"
      },
      "source": [
        "# Print the first five rows of StackOverflowJobsRecommend column\n",
        "so_survey_df['StackOverflowJobsRecommend'].head()"
      ],
      "execution_count": 18,
      "outputs": [
        {
          "output_type": "execute_result",
          "data": {
            "text/plain": [
              "0    NaN\n",
              "1    7.0\n",
              "2    8.0\n",
              "3    NaN\n",
              "4    8.0\n",
              "Name: StackOverflowJobsRecommend, dtype: float64"
            ]
          },
          "metadata": {
            "tags": []
          },
          "execution_count": 18
        }
      ]
    },
    {
      "cell_type": "code",
      "metadata": {
        "colab": {
          "base_uri": "https://localhost:8080/"
        },
        "id": "iwSaMbvgbJyd",
        "outputId": "92056a78-485a-4ee0-c0e5-a452b383af1a"
      },
      "source": [
        "# Fill missing values with the mean\n",
        "so_survey_df['StackOverflowJobsRecommend'].fillna(so_survey_df['StackOverflowJobsRecommend'].mean(), \n",
        "                                                  inplace=True)\n",
        "\n",
        "# Round the StackOverflowJobsRecommend values\n",
        "so_survey_df['StackOverflowJobsRecommend'] = round(so_survey_df['StackOverflowJobsRecommend'])\n",
        "\n",
        "# Print the first five rows of StackOverflowJobsRecommend column\n",
        "so_survey_df['StackOverflowJobsRecommend'].head()"
      ],
      "execution_count": 19,
      "outputs": [
        {
          "output_type": "execute_result",
          "data": {
            "text/plain": [
              "0    7.0\n",
              "1    7.0\n",
              "2    8.0\n",
              "3    7.0\n",
              "4    8.0\n",
              "Name: StackOverflowJobsRecommend, dtype: float64"
            ]
          },
          "metadata": {
            "tags": []
          },
          "execution_count": 19
        }
      ]
    },
    {
      "cell_type": "markdown",
      "metadata": {
        "id": "oLKCC9gtbJye"
      },
      "source": [
        "## Dealing with other data issues\n"
      ]
    },
    {
      "cell_type": "markdown",
      "metadata": {
        "id": "jSu_SkihbJye"
      },
      "source": [
        "### *Dealing with stray characters ($I^{st}$)*\n",
        "\n",
        "In this exercise, you will work with the `RawSalary` column of `so_survey_df` which contains the wages of the respondents along with the currency symbols and commas, such as `$42,000`. When importing data from Microsoft Excel, more often that not you will come across data in this form.\n",
        "\n"
      ]
    },
    {
      "cell_type": "code",
      "metadata": {
        "id": "XPu7T45nbJyf",
        "colab": {
          "base_uri": "https://localhost:8080/"
        },
        "outputId": "8ae96f7b-5222-461e-f9b0-4c3454512006"
      },
      "source": [
        "# Remove the commas in the column\n",
        "so_survey_df['RawSalary'] = so_survey_df['RawSalary'].str.replace(',', '')\n",
        "\n",
        "# Remove the dollar signs in the column\n",
        "so_survey_df['RawSalary'] = so_survey_df['RawSalary'].str.replace('$', '')\n",
        "so_survey_df['RawSalary'] = so_survey_df['RawSalary'].str.replace('£', '')\n",
        "\n",
        "print(so_survey_df['RawSalary'].dtype)"
      ],
      "execution_count": 20,
      "outputs": [
        {
          "output_type": "stream",
          "text": [
            "object\n"
          ],
          "name": "stdout"
        }
      ]
    },
    {
      "cell_type": "code",
      "metadata": {
        "colab": {
          "base_uri": "https://localhost:8080/"
        },
        "id": "SetJlzZaOm9O",
        "outputId": "54be85ef-6a3f-49f5-8616-5f1cb9e885bd"
      },
      "source": [
        "so_survey_df['RawSalary'] = so_survey_df['RawSalary'].astype('float')\n",
        "print(so_survey_df['RawSalary'].dtype)"
      ],
      "execution_count": 21,
      "outputs": [
        {
          "output_type": "stream",
          "text": [
            "float64\n"
          ],
          "name": "stdout"
        }
      ]
    },
    {
      "cell_type": "code",
      "metadata": {
        "colab": {
          "base_uri": "https://localhost:8080/"
        },
        "id": "Wfb8mrdWXFL-",
        "outputId": "f56d38ef-dde9-46bf-da34-13054b08ee3e"
      },
      "source": [
        "# Print the column\n",
        "so_survey_df['RawSalary']"
      ],
      "execution_count": 22,
      "outputs": [
        {
          "output_type": "execute_result",
          "data": {
            "text/plain": [
              "0            NaN\n",
              "1        70841.0\n",
              "2            NaN\n",
              "3        21426.0\n",
              "4        41671.0\n",
              "         ...    \n",
              "994          NaN\n",
              "995      58746.0\n",
              "996      55000.0\n",
              "997          NaN\n",
              "998    1000000.0\n",
              "Name: RawSalary, Length: 999, dtype: float64"
            ]
          },
          "metadata": {
            "tags": []
          },
          "execution_count": 22
        }
      ]
    },
    {
      "cell_type": "markdown",
      "metadata": {
        "id": "kGvlR5H7bJyf"
      },
      "source": [
        "### *Dealing with stray characters ($II^{nd}$)*\n",
        "In the last exercise, you could tell quickly based off of the `df.head()` call which characters were causing an issue. In many cases this will not be so apparent. There will often be values deep within a column that are preventing you from casting a column as a numeric type so that it can be used in a model or further feature engineering.\n",
        "\n",
        "One approach to finding these values is to force the column to the data type desired using `pd.to_numeric()`, coercing any values causing issues to NaN, Then filtering the DataFrame by just the rows containing the NaN values.\n",
        "\n",
        "Try to cast the `RawSalary` column as a float and it will fail as an additional character can now be found in it. Find the character and remove it so the column can be cast as a float."
      ]
    },
    {
      "cell_type": "code",
      "metadata": {
        "colab": {
          "base_uri": "https://localhost:8080/"
        },
        "id": "pQAA3167bJyg",
        "outputId": "6baaacc7-6da3-464f-abfb-da853c9bfd88"
      },
      "source": [
        "# Attempt to convert the column to numeric values\n",
        "numeric_vals = pd.to_numeric(so_survey_df['RawSalary'], errors='coerce')\n",
        "\n",
        "# find the indexes of missing values\n",
        "idx = so_survey_df['RawSalary'].isna()\n",
        "\n",
        "# Print the relevant raws\n",
        "print(so_survey_df['RawSalary'][idx])"
      ],
      "execution_count": 23,
      "outputs": [
        {
          "output_type": "stream",
          "text": [
            "0     NaN\n",
            "2     NaN\n",
            "6     NaN\n",
            "8     NaN\n",
            "11    NaN\n",
            "       ..\n",
            "989   NaN\n",
            "990   NaN\n",
            "992   NaN\n",
            "994   NaN\n",
            "997   NaN\n",
            "Name: RawSalary, Length: 334, dtype: float64\n"
          ],
          "name": "stdout"
        }
      ]
    },
    {
      "cell_type": "markdown",
      "metadata": {
        "id": "YrEp1NbYbJyh"
      },
      "source": [
        "### *Method chaining*\n",
        "\n",
        "When applying multiple operations on the same column (like in the previous exercises), you made the changes in several steps, assigning the results back in each step. However, when applying multiple successive operations on the same column, you can \"chain\" these operations together for clarity and ease of management. This can be achieved by calling multiple methods sequentially:\n",
        "\n",
        "```python\n",
        "# Method chaining\n",
        "df['column'] = df['column'].method1().method2().method3()\n",
        "\n",
        "# Same as \n",
        "df['column'] = df['column'].method1()\n",
        "df['column'] = df['column'].method2()\n",
        "df['column'] = df['column'].method3()\n",
        "```\n",
        "In this exercise you will repeat the steps you performed in the last two exercises, but do so using method chaining."
      ]
    },
    {
      "cell_type": "code",
      "metadata": {
        "colab": {
          "base_uri": "https://localhost:8080/"
        },
        "id": "FctJBw8xbJyi",
        "outputId": "eb66d613-1170-43e9-e8ec-4d3472bdcdd0"
      },
      "source": [
        "so_survey_df = pd.read_csv('Combined_DS_v10.csv')\n",
        "# Use method chaining\n",
        "so_survey_df['RawSalary'] = so_survey_df['RawSalary']\\\n",
        "                            .str.replace(',', '')\\\n",
        "                            .str.replace('$', '')\\\n",
        "                            .str.replace('£', '')\\\n",
        "                            .astype(float)\n",
        "\n",
        "# Print the RawSalary column\n",
        "print(so_survey_df['RawSalary'])"
      ],
      "execution_count": 24,
      "outputs": [
        {
          "output_type": "stream",
          "text": [
            "0            NaN\n",
            "1        70841.0\n",
            "2            NaN\n",
            "3        21426.0\n",
            "4        41671.0\n",
            "         ...    \n",
            "994          NaN\n",
            "995      58746.0\n",
            "996      55000.0\n",
            "997          NaN\n",
            "998    1000000.0\n",
            "Name: RawSalary, Length: 999, dtype: float64\n"
          ],
          "name": "stdout"
        }
      ]
    },
    {
      "cell_type": "markdown",
      "metadata": {
        "id": "HNTNZ38MbLsQ"
      },
      "source": [
        "## __Connect with Me__ \n",
        "--- \n",
        "[<img align=\"left\" alt=\"codeSTACKr | Twitter\" width=\"40px\" src=\"https://cdn.jsdelivr.net/npm/simple-icons@v3/icons/twitter.svg\" />][twitter] \n",
        "[<img align=\"left\" alt=\"codeSTACKr | LinkedIn\" width=\"40px\" src=\"https://cdn.jsdelivr.net/npm/simple-icons@v3/icons/linkedin.svg\" />][linkedin] \n",
        "[<img align=\"left\" alt=\"codeSTACKr.com\" width=\"40px\" src=\"https://raw.githubusercontent.com/iconic/open-iconic/master/svg/globe.svg\" />][StackExchange AI] \n",
        "[twitter]: https://twitter.com/F4izy \n",
        "--- \n",
        "[linkedin]: https://www.linkedin.com/in/mohd-faizy/ \n",
        "--- \n",
        "[StackExchange AI]: https://mohd-faizy.github.io\n",
        "--- \n",
        "--- \n",
        "--- \n",
        "---"
      ]
    }
  ]
}