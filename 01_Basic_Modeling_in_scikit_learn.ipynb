{
  "nbformat": 4,
  "nbformat_minor": 0,
  "metadata": {
    "kernelspec": {
      "display_name": "Python 3",
      "language": "python",
      "name": "python3"
    },
    "language_info": {
      "codemirror_mode": {
        "name": "ipython",
        "version": 3
      },
      "file_extension": ".py",
      "mimetype": "text/x-python",
      "name": "python",
      "nbconvert_exporter": "python",
      "pygments_lexer": "ipython3",
      "version": "3.7.6"
    },
    "colab": {
      "name": "01_Basic-Modeling-in-scikit-learn.ipynb",
      "provenance": [],
      "toc_visible": true,
      "include_colab_link": true
    }
  },
  "cells": [
    {
      "cell_type": "markdown",
      "metadata": {
        "id": "view-in-github",
        "colab_type": "text"
      },
      "source": [
        "<a href=\"https://colab.research.google.com/github/mohd-faizy/CAREER-TRACK-Machine-Learning-Scientist-with-Python/blob/main/01_Basic_Modeling_in_scikit_learn.ipynb\" target=\"_parent\"><img src=\"https://colab.research.google.com/assets/colab-badge.svg\" alt=\"Open In Colab\"/></a>"
      ]
    },
    {
      "cell_type": "markdown",
      "metadata": {
        "id": "ItfjD-Nq_RFa"
      },
      "source": [
        "--- \n",
        "<strong> \n",
        "    <h1 align='center'>Basic Modeling in scikit-learn</h1> \n",
        "</strong>\n",
        "\n",
        "---\n",
        "\n",
        "*Before we can validate models*, we need an understanding of how to **create** and **work** with them. This chapter provides an introduction to running **regression** and **classification** models in scikit-learn. We will use this model building foundation throughout the remaining chapters."
      ]
    },
    {
      "cell_type": "code",
      "metadata": {
        "colab": {
          "base_uri": "https://localhost:8080/"
        },
        "id": "MBwrq_tJ_b_B",
        "outputId": "640656d5-c23f-4f81-c81e-d5fb5d6cf2da"
      },
      "source": [
        "!git clone https://github.com/mohd-faizy/CAREER-TRACK-Machine-Learning-Scientist-with-Python.git"
      ],
      "execution_count": 1,
      "outputs": [
        {
          "output_type": "stream",
          "text": [
            "Cloning into 'CAREER-TRACK-Machine-Learning-Scientist-with-Python'...\n",
            "remote: Enumerating objects: 651, done.\u001b[K\n",
            "remote: Counting objects: 100% (322/322), done.\u001b[K\n",
            "remote: Compressing objects: 100% (287/287), done.\u001b[K\n",
            "remote: Total 651 (delta 73), reused 269 (delta 33), pack-reused 329\u001b[K\n",
            "Receiving objects: 100% (651/651), 201.09 MiB | 34.81 MiB/s, done.\n",
            "Resolving deltas: 100% (199/199), done.\n",
            "Checking out files: 100% (309/309), done.\n"
          ],
          "name": "stdout"
        }
      ]
    },
    {
      "cell_type": "code",
      "metadata": {
        "id": "RV6e3XLr_i-Y"
      },
      "source": [
        "import numpy as np\n",
        "import pandas as pd\n",
        "import matplotlib.pyplot as plt\n",
        "import seaborn as sns\n",
        "import os\n",
        "\n",
        "plt.style.use('fivethirtyeight')\n",
        "#plt.style.use('ggplot')\n",
        "#sns.set_theme()\n",
        "\n",
        "%matplotlib inline"
      ],
      "execution_count": 2,
      "outputs": []
    },
    {
      "cell_type": "code",
      "metadata": {
        "colab": {
          "base_uri": "https://localhost:8080/"
        },
        "id": "xuNcMmq4_klc",
        "outputId": "c3e00e5e-f912-4a76-de78-601e036fa61d"
      },
      "source": [
        "os.chdir('/content/CAREER-TRACK-Machine-Learning-Scientist-with-Python/10_Model_Validation_in_Python/_dataset')\n",
        "cwd = os.getcwd()\n",
        "print('Curent working directory is ', cwd)"
      ],
      "execution_count": 3,
      "outputs": [
        {
          "output_type": "stream",
          "text": [
            "Curent working directory is  /content/CAREER-TRACK-Machine-Learning-Scientist-with-Python/10_Model_Validation_in_Python/_dataset\n"
          ],
          "name": "stdout"
        }
      ]
    },
    {
      "cell_type": "code",
      "metadata": {
        "colab": {
          "base_uri": "https://localhost:8080/"
        },
        "id": "i5sVNREN_xi_",
        "outputId": "2b937cb9-9e1b-4060-dc10-d5357b13042f"
      },
      "source": [
        "ls"
      ],
      "execution_count": 4,
      "outputs": [
        {
          "output_type": "stream",
          "text": [
            "candy-data.csv  sports.csv  tic-tac-toe.csv\n"
          ],
          "name": "stdout"
        }
      ]
    },
    {
      "cell_type": "markdown",
      "metadata": {
        "id": "VH8pcJetkixG"
      },
      "source": [
        "## Introduction to model validation\n",
        "\n",
        "**Model validation**\n",
        "- Ensuring your model performs as expected on new data\n",
        "- Testing model performance on **holdout datasets**\n",
        "- Selecting the best model, parameters, and accuracy metrics\n",
        "- Achieving the best accuracy for the given data\n",
        "\n",
        "- > **What is a Holdout Set?**\n",
        "    - Sometimes referred to as __testing data__, a holdout subset **provides a final estimate of the machine learning model's performance after it has been trained and validated**.\n",
        "    - Holdout sets should **never be used** *to make decisions about which algorithms* to *use or for improving or tuning algorithms*.\n",
        "    "
      ]
    },
    {
      "cell_type": "markdown",
      "metadata": {
        "id": "WGhLPdv2kixH"
      },
      "source": [
        "### **Seen** $vs$ **unseen** data\n",
        "\n",
        "**Model's tend to have higher accuracy on observations they have seen before.**\n",
        "\n",
        "In the candy dataset, predicting the popularity of Skittles will likely have higher accuracy than predicting the popularity of Andes Mints; Skittles is in the dataset, and Andes Mints is not.\n",
        "\n",
        "we've built a model based on 50 candies using the dataset `X_train` and need to report how accurate the model is at predicting the popularity of the 50 candies on the model that it was built on, and the 35 candies (`X_test`) it has never seen.\n",
        "\n",
        "we will use the **mean absolute error**, `mae()`, as the accuracy metric."
      ]
    },
    {
      "cell_type": "code",
      "metadata": {
        "colab": {
          "base_uri": "https://localhost:8080/",
          "height": 217
        },
        "id": "XMc8xNRhkixI",
        "outputId": "7cd45921-e676-4451-d816-f1ccaa283ef9"
      },
      "source": [
        "candy = pd.read_csv('candy-data.csv')\n",
        "candy.head()"
      ],
      "execution_count": 5,
      "outputs": [
        {
          "output_type": "execute_result",
          "data": {
            "text/html": [
              "<div>\n",
              "<style scoped>\n",
              "    .dataframe tbody tr th:only-of-type {\n",
              "        vertical-align: middle;\n",
              "    }\n",
              "\n",
              "    .dataframe tbody tr th {\n",
              "        vertical-align: top;\n",
              "    }\n",
              "\n",
              "    .dataframe thead th {\n",
              "        text-align: right;\n",
              "    }\n",
              "</style>\n",
              "<table border=\"1\" class=\"dataframe\">\n",
              "  <thead>\n",
              "    <tr style=\"text-align: right;\">\n",
              "      <th></th>\n",
              "      <th>competitorname</th>\n",
              "      <th>chocolate</th>\n",
              "      <th>fruity</th>\n",
              "      <th>caramel</th>\n",
              "      <th>peanutyalmondy</th>\n",
              "      <th>nougat</th>\n",
              "      <th>crispedricewafer</th>\n",
              "      <th>hard</th>\n",
              "      <th>bar</th>\n",
              "      <th>pluribus</th>\n",
              "      <th>sugarpercent</th>\n",
              "      <th>pricepercent</th>\n",
              "      <th>winpercent</th>\n",
              "    </tr>\n",
              "  </thead>\n",
              "  <tbody>\n",
              "    <tr>\n",
              "      <th>0</th>\n",
              "      <td>100 Grand</td>\n",
              "      <td>1</td>\n",
              "      <td>0</td>\n",
              "      <td>1</td>\n",
              "      <td>0</td>\n",
              "      <td>0</td>\n",
              "      <td>1</td>\n",
              "      <td>0</td>\n",
              "      <td>1</td>\n",
              "      <td>0</td>\n",
              "      <td>0.732</td>\n",
              "      <td>0.860</td>\n",
              "      <td>66.971725</td>\n",
              "    </tr>\n",
              "    <tr>\n",
              "      <th>1</th>\n",
              "      <td>3 Musketeers</td>\n",
              "      <td>1</td>\n",
              "      <td>0</td>\n",
              "      <td>0</td>\n",
              "      <td>0</td>\n",
              "      <td>1</td>\n",
              "      <td>0</td>\n",
              "      <td>0</td>\n",
              "      <td>1</td>\n",
              "      <td>0</td>\n",
              "      <td>0.604</td>\n",
              "      <td>0.511</td>\n",
              "      <td>67.602936</td>\n",
              "    </tr>\n",
              "    <tr>\n",
              "      <th>2</th>\n",
              "      <td>One dime</td>\n",
              "      <td>0</td>\n",
              "      <td>0</td>\n",
              "      <td>0</td>\n",
              "      <td>0</td>\n",
              "      <td>0</td>\n",
              "      <td>0</td>\n",
              "      <td>0</td>\n",
              "      <td>0</td>\n",
              "      <td>0</td>\n",
              "      <td>0.011</td>\n",
              "      <td>0.116</td>\n",
              "      <td>32.261086</td>\n",
              "    </tr>\n",
              "    <tr>\n",
              "      <th>3</th>\n",
              "      <td>One quarter</td>\n",
              "      <td>0</td>\n",
              "      <td>0</td>\n",
              "      <td>0</td>\n",
              "      <td>0</td>\n",
              "      <td>0</td>\n",
              "      <td>0</td>\n",
              "      <td>0</td>\n",
              "      <td>0</td>\n",
              "      <td>0</td>\n",
              "      <td>0.011</td>\n",
              "      <td>0.511</td>\n",
              "      <td>46.116505</td>\n",
              "    </tr>\n",
              "    <tr>\n",
              "      <th>4</th>\n",
              "      <td>Air Heads</td>\n",
              "      <td>0</td>\n",
              "      <td>1</td>\n",
              "      <td>0</td>\n",
              "      <td>0</td>\n",
              "      <td>0</td>\n",
              "      <td>0</td>\n",
              "      <td>0</td>\n",
              "      <td>0</td>\n",
              "      <td>0</td>\n",
              "      <td>0.906</td>\n",
              "      <td>0.511</td>\n",
              "      <td>52.341465</td>\n",
              "    </tr>\n",
              "  </tbody>\n",
              "</table>\n",
              "</div>"
            ],
            "text/plain": [
              "  competitorname  chocolate  fruity  ...  sugarpercent  pricepercent  winpercent\n",
              "0      100 Grand          1       0  ...         0.732         0.860   66.971725\n",
              "1   3 Musketeers          1       0  ...         0.604         0.511   67.602936\n",
              "2       One dime          0       0  ...         0.011         0.116   32.261086\n",
              "3    One quarter          0       0  ...         0.011         0.511   46.116505\n",
              "4      Air Heads          0       1  ...         0.906         0.511   52.341465\n",
              "\n",
              "[5 rows x 13 columns]"
            ]
          },
          "metadata": {
            "tags": []
          },
          "execution_count": 5
        }
      ]
    },
    {
      "cell_type": "code",
      "metadata": {
        "id": "-7TVz25XkixO"
      },
      "source": [
        "X = candy.drop(['competitorname', 'winpercent'], axis=1)\n",
        "y = candy['winpercent']"
      ],
      "execution_count": 6,
      "outputs": []
    },
    {
      "cell_type": "code",
      "metadata": {
        "colab": {
          "base_uri": "https://localhost:8080/",
          "height": 197
        },
        "id": "UGD-G8kNkixP",
        "outputId": "8e1f7ae6-1c50-45a7-881a-1dc96954fd5c"
      },
      "source": [
        "X.head()"
      ],
      "execution_count": 7,
      "outputs": [
        {
          "output_type": "execute_result",
          "data": {
            "text/html": [
              "<div>\n",
              "<style scoped>\n",
              "    .dataframe tbody tr th:only-of-type {\n",
              "        vertical-align: middle;\n",
              "    }\n",
              "\n",
              "    .dataframe tbody tr th {\n",
              "        vertical-align: top;\n",
              "    }\n",
              "\n",
              "    .dataframe thead th {\n",
              "        text-align: right;\n",
              "    }\n",
              "</style>\n",
              "<table border=\"1\" class=\"dataframe\">\n",
              "  <thead>\n",
              "    <tr style=\"text-align: right;\">\n",
              "      <th></th>\n",
              "      <th>chocolate</th>\n",
              "      <th>fruity</th>\n",
              "      <th>caramel</th>\n",
              "      <th>peanutyalmondy</th>\n",
              "      <th>nougat</th>\n",
              "      <th>crispedricewafer</th>\n",
              "      <th>hard</th>\n",
              "      <th>bar</th>\n",
              "      <th>pluribus</th>\n",
              "      <th>sugarpercent</th>\n",
              "      <th>pricepercent</th>\n",
              "    </tr>\n",
              "  </thead>\n",
              "  <tbody>\n",
              "    <tr>\n",
              "      <th>0</th>\n",
              "      <td>1</td>\n",
              "      <td>0</td>\n",
              "      <td>1</td>\n",
              "      <td>0</td>\n",
              "      <td>0</td>\n",
              "      <td>1</td>\n",
              "      <td>0</td>\n",
              "      <td>1</td>\n",
              "      <td>0</td>\n",
              "      <td>0.732</td>\n",
              "      <td>0.860</td>\n",
              "    </tr>\n",
              "    <tr>\n",
              "      <th>1</th>\n",
              "      <td>1</td>\n",
              "      <td>0</td>\n",
              "      <td>0</td>\n",
              "      <td>0</td>\n",
              "      <td>1</td>\n",
              "      <td>0</td>\n",
              "      <td>0</td>\n",
              "      <td>1</td>\n",
              "      <td>0</td>\n",
              "      <td>0.604</td>\n",
              "      <td>0.511</td>\n",
              "    </tr>\n",
              "    <tr>\n",
              "      <th>2</th>\n",
              "      <td>0</td>\n",
              "      <td>0</td>\n",
              "      <td>0</td>\n",
              "      <td>0</td>\n",
              "      <td>0</td>\n",
              "      <td>0</td>\n",
              "      <td>0</td>\n",
              "      <td>0</td>\n",
              "      <td>0</td>\n",
              "      <td>0.011</td>\n",
              "      <td>0.116</td>\n",
              "    </tr>\n",
              "    <tr>\n",
              "      <th>3</th>\n",
              "      <td>0</td>\n",
              "      <td>0</td>\n",
              "      <td>0</td>\n",
              "      <td>0</td>\n",
              "      <td>0</td>\n",
              "      <td>0</td>\n",
              "      <td>0</td>\n",
              "      <td>0</td>\n",
              "      <td>0</td>\n",
              "      <td>0.011</td>\n",
              "      <td>0.511</td>\n",
              "    </tr>\n",
              "    <tr>\n",
              "      <th>4</th>\n",
              "      <td>0</td>\n",
              "      <td>1</td>\n",
              "      <td>0</td>\n",
              "      <td>0</td>\n",
              "      <td>0</td>\n",
              "      <td>0</td>\n",
              "      <td>0</td>\n",
              "      <td>0</td>\n",
              "      <td>0</td>\n",
              "      <td>0.906</td>\n",
              "      <td>0.511</td>\n",
              "    </tr>\n",
              "  </tbody>\n",
              "</table>\n",
              "</div>"
            ],
            "text/plain": [
              "   chocolate  fruity  caramel  ...  pluribus  sugarpercent  pricepercent\n",
              "0          1       0        1  ...         0         0.732         0.860\n",
              "1          1       0        0  ...         0         0.604         0.511\n",
              "2          0       0        0  ...         0         0.011         0.116\n",
              "3          0       0        0  ...         0         0.011         0.511\n",
              "4          0       1        0  ...         0         0.906         0.511\n",
              "\n",
              "[5 rows x 11 columns]"
            ]
          },
          "metadata": {
            "tags": []
          },
          "execution_count": 7
        }
      ]
    },
    {
      "cell_type": "code",
      "metadata": {
        "colab": {
          "base_uri": "https://localhost:8080/"
        },
        "id": "j-3NvRpfkixR",
        "outputId": "31fc2356-8c54-4e9f-b4d9-3cb3a48a2b09"
      },
      "source": [
        "from sklearn.model_selection import train_test_split\n",
        "from sklearn.metrics import mean_absolute_error as mae\n",
        "from sklearn.ensemble import RandomForestRegressor\n",
        "\n",
        "candy = pd.read_csv('candy-data.csv')\n",
        "\n",
        "X = candy.drop(['competitorname', 'winpercent'], axis=1)\n",
        "y = candy['winpercent']\n",
        "\n",
        "X_train, X_test, y_train, y_test = train_test_split(X, y, test_size=0.4)\n",
        "\n",
        "model = RandomForestRegressor(n_estimators=50)\n",
        "\n",
        "# The model is fit using X_train and y_train\n",
        "model.fit(X_train, y_train)\n",
        "\n",
        "# Create vectors of predictions\n",
        "train_predictions = model.predict(X_train)\n",
        "test_predictions = model.predict(X_test)\n",
        "\n",
        "# Train/Test Errors\n",
        "train_error = mae(y_true=y_train, y_pred=train_predictions)\n",
        "test_error = mae(y_true=y_test, y_pred=test_predictions)\n",
        "\n",
        "# Print the accuracy for seen and unseen data\n",
        "print(\"Model error on seen data: {0:.2f}\".format(train_error))\n",
        "print(\"Model error on unseen data: {0:.2f}\".format(test_error))"
      ],
      "execution_count": 8,
      "outputs": [
        {
          "output_type": "stream",
          "text": [
            "Model error on seen data: 3.52\n",
            "Model error on unseen data: 9.25\n"
          ],
          "name": "stdout"
        }
      ]
    },
    {
      "cell_type": "markdown",
      "metadata": {
        "id": "6ucjUIJfkixS"
      },
      "source": [
        "When models perform differently on **training** and **testing data**, you should look to model validation to ensure you have the best performing model. "
      ]
    },
    {
      "cell_type": "markdown",
      "metadata": {
        "id": "fAxhZfmZkixT"
      },
      "source": [
        "## **Regression Models**\n",
        "\n",
        "There are two types of **predictive models**:\n",
        "- Models built for **Continuous Variables**, or **Regression Models**\n",
        "- and models built for **Categorical Variables**, called **Classification Models**. \n",
        "\n",
        "- **Random forest parameters**\n",
        "    - `n_estimators`: the number of trees in the forest\n",
        "    - `max_depth`: the maximum depth of the trees\n",
        "\n",
        "        ***These two parameters alone can make a big impact on model accuracy.***\n",
        "\n",
        "    - `random_state`: random seed"
      ]
    },
    {
      "cell_type": "markdown",
      "metadata": {
        "id": "VMLcDMaakixU"
      },
      "source": [
        "### Set parameters and fit a model\n",
        "\n",
        "Predictive tasks fall into one of two categories:\n",
        "- **Regression**\n",
        "- **Classification**\n",
        "\n",
        "In the candy dataset, the outcome is a continuous variable describing how often the candy was chosen over another candy in a series of 1-on-1 match-ups. To predict this value (the win-percentage), you will use a **regression** model.\n",
        "\n"
      ]
    },
    {
      "cell_type": "code",
      "metadata": {
        "id": "2pxSkwPfjbBb"
      },
      "source": [
        "from sklearn.ensemble import RandomForestRegressor\n",
        "\n",
        "rfr = RandomForestRegressor()"
      ],
      "execution_count": 9,
      "outputs": []
    },
    {
      "cell_type": "code",
      "metadata": {
        "colab": {
          "base_uri": "https://localhost:8080/"
        },
        "id": "ncBqcmUNkixU",
        "outputId": "3d9a18d8-64b0-49ee-924f-1daf5403c975"
      },
      "source": [
        "# Set the number of trees\n",
        "rfr.n_estimators = 100\n",
        "\n",
        "# Add a maximum depth\n",
        "rfr.max_depth = 6\n",
        "\n",
        "# Set the random date\n",
        "rfr.random_state = 1111\n",
        "\n",
        "# Fit the model\n",
        "rfr.fit(X_train, y_train)"
      ],
      "execution_count": 10,
      "outputs": [
        {
          "output_type": "execute_result",
          "data": {
            "text/plain": [
              "RandomForestRegressor(bootstrap=True, ccp_alpha=0.0, criterion='mse',\n",
              "                      max_depth=6, max_features='auto', max_leaf_nodes=None,\n",
              "                      max_samples=None, min_impurity_decrease=0.0,\n",
              "                      min_impurity_split=None, min_samples_leaf=1,\n",
              "                      min_samples_split=2, min_weight_fraction_leaf=0.0,\n",
              "                      n_estimators=100, n_jobs=None, oob_score=False,\n",
              "                      random_state=1111, verbose=0, warm_start=False)"
            ]
          },
          "metadata": {
            "tags": []
          },
          "execution_count": 10
        }
      ]
    },
    {
      "cell_type": "markdown",
      "metadata": {
        "id": "H-SKNp42kixW"
      },
      "source": [
        "**You have updated parameters after the model was initialized**.\n",
        ">This approach is helpful **when you need to update parameters. Before making predictions**, let's see which candy characteristics were most important to the model."
      ]
    },
    {
      "cell_type": "markdown",
      "metadata": {
        "id": "ZWAso3cOkixW"
      },
      "source": [
        "### Feature importances\n",
        "\n",
        ">__NOTE:__ Although some candy attributes, such as chocolate, may be extremely popular, it doesn't mean they will be important to model prediction.\n",
        "\n",
        "After a random forest model has been __fit__, we can review the model's attribute, __`.feature_importances_`__, to see **which variables had the biggest impact**. we can check how important each variable was in the model by looping over the feature importance array using `enumerate()`.\n",
        "\n"
      ]
    },
    {
      "cell_type": "code",
      "metadata": {
        "colab": {
          "base_uri": "https://localhost:8080/"
        },
        "id": "p8sUyQegkixX",
        "outputId": "19785dc1-988c-4a97-e26c-e6baf6100885"
      },
      "source": [
        "# Print how important each column is to the model\n",
        "for i, item in enumerate(rfr.feature_importances_):\n",
        "    # Use i and item to print out the feature importance of each column\n",
        "    print(\"{0:s}: {1:.2f}\".format(X_train.columns[i], item))"
      ],
      "execution_count": 11,
      "outputs": [
        {
          "output_type": "stream",
          "text": [
            "chocolate: 0.40\n",
            "fruity: 0.02\n",
            "caramel: 0.01\n",
            "peanutyalmondy: 0.10\n",
            "nougat: 0.01\n",
            "crispedricewafer: 0.01\n",
            "hard: 0.02\n",
            "bar: 0.04\n",
            "pluribus: 0.03\n",
            "sugarpercent: 0.18\n",
            "pricepercent: 0.17\n"
          ],
          "name": "stdout"
        }
      ]
    },
    {
      "cell_type": "markdown",
      "metadata": {
        "id": "PtgPGh5bkixZ"
      },
      "source": [
        "We can assess how important different features (or columns) of the data were in the model by using the __`.feature_importances_ attribute`__. If the data is a pandas DataFrame, X, we can access the column names and print the importance score quite easily. The larger this number is, the more important that column was in the model. \n",
        "\n",
        "No surprise here - chocolate is the most important variable. `.feature_importances_` is a great way to see which variables were important to your random forest model."
      ]
    },
    {
      "cell_type": "markdown",
      "metadata": {
        "id": "LK6t4dI4kixb"
      },
      "source": [
        "## **Classification Models**"
      ]
    },
    {
      "cell_type": "markdown",
      "metadata": {
        "id": "vAHS2oX0kixb"
      },
      "source": [
        "### Classification predictions\n",
        "\n",
        "In **model validation**, it is often important to know more about the **predictions** than just the **final classification**. When predicting who will win a game, most people are also interested in how likely it is a team will win.\n",
        "\n",
        "$$\n",
        "\\begin{array}{lll}\n",
        "\\text { Probability } & \\text { Prediction } & \\text { Meaning } \\\\\n",
        "\\hline 0-0.5 & 0 & \\text { Team Loses } \\\\\n",
        "0.5-1 & 1 & \\text { Team Wins }\n",
        "\\end{array}\n",
        "$$\n",
        "\n",
        "In this exercise, you look at the methods:\n",
        "- __`.predict()`__\n",
        "- and __`.predict_proba()`__\n",
        "\n",
        "using the `tic_tac_toe` dataset. The first method will give a prediction of whether Player One will win the game, and the second method will provide the probability of Player One winning."
      ]
    },
    {
      "cell_type": "code",
      "metadata": {
        "colab": {
          "base_uri": "https://localhost:8080/",
          "height": 197
        },
        "id": "1AuclQnQkixd",
        "outputId": "d490febc-805e-4fee-d765-aaaf78d4cc33"
      },
      "source": [
        "tic_tac_toe = pd.read_csv('tic-tac-toe.csv')\n",
        "tic_tac_toe.head()"
      ],
      "execution_count": 12,
      "outputs": [
        {
          "output_type": "execute_result",
          "data": {
            "text/html": [
              "<div>\n",
              "<style scoped>\n",
              "    .dataframe tbody tr th:only-of-type {\n",
              "        vertical-align: middle;\n",
              "    }\n",
              "\n",
              "    .dataframe tbody tr th {\n",
              "        vertical-align: top;\n",
              "    }\n",
              "\n",
              "    .dataframe thead th {\n",
              "        text-align: right;\n",
              "    }\n",
              "</style>\n",
              "<table border=\"1\" class=\"dataframe\">\n",
              "  <thead>\n",
              "    <tr style=\"text-align: right;\">\n",
              "      <th></th>\n",
              "      <th>Top-Left</th>\n",
              "      <th>Top-Middle</th>\n",
              "      <th>Top-Right</th>\n",
              "      <th>Middle-Left</th>\n",
              "      <th>Middle-Middle</th>\n",
              "      <th>Middle-Right</th>\n",
              "      <th>Bottom-Left</th>\n",
              "      <th>Bottom-Middle</th>\n",
              "      <th>Bottom-Right</th>\n",
              "      <th>Class</th>\n",
              "    </tr>\n",
              "  </thead>\n",
              "  <tbody>\n",
              "    <tr>\n",
              "      <th>0</th>\n",
              "      <td>x</td>\n",
              "      <td>x</td>\n",
              "      <td>x</td>\n",
              "      <td>x</td>\n",
              "      <td>o</td>\n",
              "      <td>o</td>\n",
              "      <td>x</td>\n",
              "      <td>o</td>\n",
              "      <td>o</td>\n",
              "      <td>positive</td>\n",
              "    </tr>\n",
              "    <tr>\n",
              "      <th>1</th>\n",
              "      <td>x</td>\n",
              "      <td>x</td>\n",
              "      <td>x</td>\n",
              "      <td>x</td>\n",
              "      <td>o</td>\n",
              "      <td>o</td>\n",
              "      <td>o</td>\n",
              "      <td>x</td>\n",
              "      <td>o</td>\n",
              "      <td>positive</td>\n",
              "    </tr>\n",
              "    <tr>\n",
              "      <th>2</th>\n",
              "      <td>x</td>\n",
              "      <td>x</td>\n",
              "      <td>x</td>\n",
              "      <td>x</td>\n",
              "      <td>o</td>\n",
              "      <td>o</td>\n",
              "      <td>o</td>\n",
              "      <td>o</td>\n",
              "      <td>x</td>\n",
              "      <td>positive</td>\n",
              "    </tr>\n",
              "    <tr>\n",
              "      <th>3</th>\n",
              "      <td>x</td>\n",
              "      <td>x</td>\n",
              "      <td>x</td>\n",
              "      <td>x</td>\n",
              "      <td>o</td>\n",
              "      <td>o</td>\n",
              "      <td>o</td>\n",
              "      <td>b</td>\n",
              "      <td>b</td>\n",
              "      <td>positive</td>\n",
              "    </tr>\n",
              "    <tr>\n",
              "      <th>4</th>\n",
              "      <td>x</td>\n",
              "      <td>x</td>\n",
              "      <td>x</td>\n",
              "      <td>x</td>\n",
              "      <td>o</td>\n",
              "      <td>o</td>\n",
              "      <td>b</td>\n",
              "      <td>o</td>\n",
              "      <td>b</td>\n",
              "      <td>positive</td>\n",
              "    </tr>\n",
              "  </tbody>\n",
              "</table>\n",
              "</div>"
            ],
            "text/plain": [
              "  Top-Left Top-Middle Top-Right  ... Bottom-Middle Bottom-Right     Class\n",
              "0        x          x         x  ...             o            o  positive\n",
              "1        x          x         x  ...             x            o  positive\n",
              "2        x          x         x  ...             o            x  positive\n",
              "3        x          x         x  ...             b            b  positive\n",
              "4        x          x         x  ...             o            b  positive\n",
              "\n",
              "[5 rows x 10 columns]"
            ]
          },
          "metadata": {
            "tags": []
          },
          "execution_count": 12
        }
      ]
    },
    {
      "cell_type": "code",
      "metadata": {
        "id": "nfaEM3jVkixf"
      },
      "source": [
        "X = tic_tac_toe.drop('Class', axis=1)\n",
        "X = pd.get_dummies(X)\n",
        "\n",
        "# Binarization the `y` Class to `1` and `0` using the lamda function\n",
        "y = tic_tac_toe['Class'].apply(lambda x: 1 if x == 'positive' else 0)"
      ],
      "execution_count": 13,
      "outputs": []
    },
    {
      "cell_type": "code",
      "metadata": {
        "colab": {
          "base_uri": "https://localhost:8080/"
        },
        "id": "u998Yy1Xs0fc",
        "outputId": "8794e3a0-7509-43b3-fadd-abe4ce291be5"
      },
      "source": [
        "print(X.head(2))\n",
        "print(y.head(2))"
      ],
      "execution_count": 14,
      "outputs": [
        {
          "output_type": "stream",
          "text": [
            "   Top-Left_b  Top-Left_o  ...  Bottom-Right_o  Bottom-Right_x\n",
            "0           0           0  ...               1               0\n",
            "1           0           0  ...               1               0\n",
            "\n",
            "[2 rows x 27 columns]\n",
            "0    1\n",
            "1    1\n",
            "Name: Class, dtype: int64\n"
          ],
          "name": "stdout"
        }
      ]
    },
    {
      "cell_type": "code",
      "metadata": {
        "colab": {
          "base_uri": "https://localhost:8080/"
        },
        "id": "rR_2KIF9kixh",
        "outputId": "6e895a64-d925-45af-bdb5-bb78eefa6c23"
      },
      "source": [
        "from sklearn.model_selection import train_test_split\n",
        "from sklearn.ensemble import RandomForestClassifier\n",
        "\n",
        "X_train, X_test, y_train, y_test = train_test_split(X, y, test_size=0.8)\n",
        "\n",
        "# intensiating the model\n",
        "rfc = RandomForestClassifier()\n",
        "\n",
        "# Fit the rfc model\n",
        "rfc.fit(X_train, y_train)\n",
        "\n",
        "# Create arrays of predictions\n",
        "classification_predictions = rfc.predict(X_test)\n",
        "probability_predictions = rfc.predict_proba(X_test)\n",
        "\n",
        "# Print out count of binary predictions\n",
        "print(pd.Series(classification_predictions).value_counts())\n",
        "\n",
        "# Print the first value from probability_predictions\n",
        "print('The first predicted probabilities are: {}'.format(probability_predictions[0]))"
      ],
      "execution_count": 15,
      "outputs": [
        {
          "output_type": "stream",
          "text": [
            "1    564\n",
            "0    203\n",
            "dtype: int64\n",
            "The first predicted probabilities are: [0.26 0.74]\n"
          ],
          "name": "stdout"
        }
      ]
    },
    {
      "cell_type": "markdown",
      "metadata": {
        "id": "MMPZ0_wqkixj"
      },
      "source": [
        "You can see there were 597 observations where Player One was predicted to win the Tic-Tac-Toe game. Also, note that **the `predicted_probabilities` array contains lists with only two values because you only have two possible responses (win or lose)**. Remember these two methods, as you will use them a lot throughout this course."
      ]
    },
    {
      "cell_type": "markdown",
      "metadata": {
        "id": "er9upYPIkixm"
      },
      "source": [
        "### Reusing model parameters\n",
        "Replicating model performance is vital in model validation. Replication is also important when sharing models with co-workers, reusing models on new data or asking questions on a website such as [Stack Overflow](https://stackoverflow.com/). You might use such a site to ask other coders about model errors, output, or performance. The best way to do this is to replicate your work by reusing model parameters.\n",
        "\n",
        "In this exercise, you use various methods to recall which parameters were used in a model.\n",
        "\n",
        "\n"
      ]
    },
    {
      "cell_type": "code",
      "metadata": {
        "colab": {
          "base_uri": "https://localhost:8080/"
        },
        "id": "dvukZGSPkixo",
        "outputId": "955dc291-c6f2-4cf3-cdd2-486afcc0a8cd"
      },
      "source": [
        "rfc = RandomForestClassifier(n_estimators=50,\n",
        "                             max_depth=6,\n",
        "                             random_state=1111)\n",
        "\n",
        "# Print the classification model\n",
        "print(rfc)\n",
        "\n",
        "# Print the classification model's random state parameter\n",
        "print('The random state is: {}'.format(rfc.random_state))\n",
        "\n",
        "# Print all parameters\n",
        "print('Printing the parameters dictionary: {}'.format(rfc.get_params()))"
      ],
      "execution_count": 16,
      "outputs": [
        {
          "output_type": "stream",
          "text": [
            "RandomForestClassifier(bootstrap=True, ccp_alpha=0.0, class_weight=None,\n",
            "                       criterion='gini', max_depth=6, max_features='auto',\n",
            "                       max_leaf_nodes=None, max_samples=None,\n",
            "                       min_impurity_decrease=0.0, min_impurity_split=None,\n",
            "                       min_samples_leaf=1, min_samples_split=2,\n",
            "                       min_weight_fraction_leaf=0.0, n_estimators=50,\n",
            "                       n_jobs=None, oob_score=False, random_state=1111,\n",
            "                       verbose=0, warm_start=False)\n",
            "The random state is: 1111\n",
            "Printing the parameters dictionary: {'bootstrap': True, 'ccp_alpha': 0.0, 'class_weight': None, 'criterion': 'gini', 'max_depth': 6, 'max_features': 'auto', 'max_leaf_nodes': None, 'max_samples': None, 'min_impurity_decrease': 0.0, 'min_impurity_split': None, 'min_samples_leaf': 1, 'min_samples_split': 2, 'min_weight_fraction_leaf': 0.0, 'n_estimators': 50, 'n_jobs': None, 'oob_score': False, 'random_state': 1111, 'verbose': 0, 'warm_start': False}\n"
          ],
          "name": "stdout"
        }
      ]
    },
    {
      "cell_type": "markdown",
      "metadata": {
        "id": "c10riXcVkixr"
      },
      "source": [
        "Recalling which parameters were used will be helpful going forward. **Model validation and performance rely heavily on which parameters were used**, and there is no way to replicate a model without keeping track of the parameters used!"
      ]
    },
    {
      "cell_type": "markdown",
      "metadata": {
        "id": "2Zk7Po6ukixs"
      },
      "source": [
        "### Random forest classifier\n",
        "This exercise reviews the four modeling steps discussed throughout this chapter using a random forest classification model. You will:\n",
        "\n",
        "1. Create a random forest classification model.\n",
        "2. Fit the model using the tic_tac_toe dataset.\n",
        "3. Make predictions on whether Player One will win (1) or lose (0) the current game.\n",
        "4. Finally, you will evaluate the overall accuracy of the model."
      ]
    },
    {
      "cell_type": "code",
      "metadata": {
        "colab": {
          "base_uri": "https://localhost:8080/"
        },
        "id": "22mWNrJrkixu",
        "outputId": "6a5dc77f-2055-4923-81de-4f18fd76a0de"
      },
      "source": [
        "# Create a random forest classifier\n",
        "rfc = RandomForestClassifier(n_estimators=50,\n",
        "                             max_depth=6,\n",
        "                             random_state=1111)\n",
        "\n",
        "# Fit rfc using X_train and y_train\n",
        "rfc.fit(X_train, y_train)\n",
        "\n",
        "# Create predictions on X_test\n",
        "predictions = rfc.predict(X_test)\n",
        "print(predictions[0:10])\n",
        "\n",
        "# Print model accuracy using score() and the testing data\n",
        "print(rfc.score(X_test, y_test))"
      ],
      "execution_count": 17,
      "outputs": [
        {
          "output_type": "stream",
          "text": [
            "[1 1 1 1 1 0 0 1 1 1]\n",
            "0.7913950456323338\n"
          ],
          "name": "stdout"
        }
      ]
    },
    {
      "cell_type": "markdown",
      "metadata": {
        "id": "D7ytSWBgkixw"
      },
      "source": [
        "That's all the steps! Notice the first five predictions were all 1, indicating that Player One is predicted to win all five of those games. You also see the model accuracy was only 82%."
      ]
    },
    {
      "cell_type": "markdown",
      "metadata": {
        "id": "F3K0SmYk_2ff"
      },
      "source": [
        "## __Connect with Me__ \n",
        "--- \n",
        "[<img align=\"left\" alt=\"codeSTACKr | Twitter\" width=\"40px\" src=\"https://cdn.jsdelivr.net/npm/simple-icons@v3/icons/twitter.svg\" />][twitter] \n",
        "[<img align=\"left\" alt=\"codeSTACKr | LinkedIn\" width=\"40px\" src=\"https://cdn.jsdelivr.net/npm/simple-icons@v3/icons/linkedin.svg\" />][linkedin] \n",
        "[<img align=\"left\" alt=\"codeSTACKr.com\" width=\"40px\" src=\"https://raw.githubusercontent.com/iconic/open-iconic/master/svg/globe.svg\" />][StackExchange AI] \n",
        "[twitter]: https://twitter.com/F4izy \n",
        "--- \n",
        "[linkedin]: https://www.linkedin.com/in/mohd-faizy/ \n",
        "--- \n",
        "[StackExchange AI]: https://mohd-faizy.github.io\n",
        "--- \n",
        "--- \n",
        "--- \n",
        "---"
      ]
    }
  ]
}